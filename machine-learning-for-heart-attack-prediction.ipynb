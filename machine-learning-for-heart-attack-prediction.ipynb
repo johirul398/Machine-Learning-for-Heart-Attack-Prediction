{
 "cells": [
  {
   "cell_type": "markdown",
   "id": "collect-grave",
   "metadata": {
    "papermill": {
     "duration": 0.041176,
     "end_time": "2023-02-21T15:55:17.917765",
     "exception": false,
     "start_time": "2023-02-21T15:55:17.876589",
     "status": "completed"
    },
    "tags": []
   },
   "source": [
    "<h1 style=\"font-family: Arials; line-height: 3; font-size: 40px; font-weight: bold; letter-spacing: 3px; text-align: center; color:gray\">🧡 Attack Analysis and Prediction</h1>\n",
    "\n",
    "<p style=\"font-family: Arials; line-height: 1; font-size: 20px; font-weight: bold; letter-spacing: 1px; text-align: center\">Any kind of comment would be very gratefull to me.</p>\n",
    "\n"
   ]
  },
  {
   "cell_type": "markdown",
   "id": "circular-preparation",
   "metadata": {
    "papermill": {
     "duration": 0.03908,
     "end_time": "2023-02-21T15:55:17.996045",
     "exception": false,
     "start_time": "2023-02-21T15:55:17.956965",
     "status": "completed"
    },
    "tags": []
   },
   "source": [
    "\n",
    "<img src=\"https://bofem.com.ng/wp-content/uploads/2018/06/heart-attack.jpg\" alt =\"Heart attack\" style=\" border-radius: 50%\">"
   ]
  },
  {
   "cell_type": "markdown",
   "id": "combined-image",
   "metadata": {
    "papermill": {
     "duration": 0.038635,
     "end_time": "2023-02-21T15:55:18.073638",
     "exception": false,
     "start_time": "2023-02-21T15:55:18.035003",
     "status": "completed"
    },
    "tags": []
   },
   "source": [
    "<p id=\"10\"></p>\n",
    "<p style=\"font-family: Arials; font-size: 30px; font-style: normal; font-weight: bold; letter-spacing: 2px; color: violet; line-height:1.0\"><a href=\"#10\" style=\"color:gray\">TABLE OF CONTENT</a></p>\n",
    "\n",
    "<hr style=\"height: 0.5px; border: 0; background-color: #808080\">\n",
    "\n",
    "<p style=\"font-family: Arials; font-size: 25px; font-style: normal; font-weight: bold; letter-spacing: 2px; color: mediumseagreen; line-height:1.3\"><a href=\"#0\" style=\"color:gray\">0. Data Dictionary</a></p>\n",
    "\n",
    "<p style=\"font-family: Arials; font-size: 25px; font-style: normal; font-weight: bold; letter-spacing: 2px; color: mediumseagreen; line-height:1.3\"><a href=\"#1\" style=\"color:gray\">1. Import Necessary Tools</a></p>\n",
    "\n",
    "\n",
    "<p style=\"font-family: Arials; font-size: 25px; font-style: normal; font-weight: bold; letter-spacing: 2px; color: mediumseagreen; line-height:1.3\"><a href=\"#2\" style=\"color:gray\">2. Data Visualization and Analysis</a></p>\n",
    "\n",
    "\n",
    "\n",
    "<p style=\"text-indent: 1vw; font-family: Arials; font-size: 25px; font-style: normal; font-weight: bold; letter-spacing: 2px; color: mediumseagreen; line-height:1.3\"> \n",
    "<a href=\"#3\" style=\"color:gray\">3. Apply Machine Learning Model</a></p>\n",
    "\n",
    "\n",
    "\n",
    "<p style=\"text-indent: 1vw; font-family: Arials; font-size: 25px; font-style: normal; font-weight: bold; letter-spacing: 2px; color: mediumseagreen; line-height:1.3\"> \n",
    "<a href=\"#4\" style=\"color:gray\">4. Artificial Neural Network</a></p>\n",
    "\n",
    "\n",
    "\n",
    "\n",
    "\n",
    "<p style=\"font-family: Arials; font-size: 25px; font-style: normal; font-weight: bold; letter-spacing: 2px; color: mediumseagreen; line-height:1.3\"><a href=\"#5\" style=\"color:gray\">5. Compare All Model Score </a></p>\n",
    "\n",
    "\n",
    "\n",
    "\n"
   ]
  },
  {
   "cell_type": "markdown",
   "id": "adaptive-topic",
   "metadata": {
    "papermill": {
     "duration": 0.038973,
     "end_time": "2023-02-21T15:55:18.152764",
     "exception": false,
     "start_time": "2023-02-21T15:55:18.113791",
     "status": "completed"
    },
    "tags": []
   },
   "source": [
    "<p id=\"0\"></p>\n",
    "<p style=\"font-family: Arials; font-size: 40px; font-style: normal; font-weight: bold; letter-spacing: 2px; color: mediumseagreen; line-height:1.3;text-align:center\"><a href=\"#1\" style=\"color:gray\">0. Data Dictionary</a></p>\n",
    "<hr style=\"height: 0.5px; border: 0; background-color: #808080\">\n",
    "\n",
    "1. age - age in years\n",
    "\n",
    "2. sex - 1 = male; 0 = female\n",
    "\n",
    "3. cp - chest pain type (1 = typical angina; 2 = atypical angina; 3 = non-anginal pain; 0 = asymptomatic)\n",
    "\n",
    "4. trtbps - resting blood pressure \n",
    "\n",
    "5. chol - serum cholestoral in mg/dl\n",
    "\n",
    "6. fbs - fasting blood sugar > 120 mg/dl (1 = true; 0 = false)\n",
    "\n",
    "7. restecg - resting electrocardiographic results (1 = normal; 2 = having ST-T wave abnormality; 0 = hypertrophy)\n",
    "\n",
    "8. thalach - maximum heart rate achieved\n",
    "\n",
    "9. exang - exercise induced angina (1 = yes; 0 = no)\n",
    "\n",
    "10. oldpeak - ST depression induced by exercise relative to rest\n",
    "\n",
    "11. slope - the slope of the peak exercise ST segment (2 = upsloping; 1 = flat; 0 = downsloping)\n",
    "\n",
    "12. caa - number of major vessels (0-3) colored by flourosopy\n",
    "\n",
    "13. thal - Thalium Stress Test result\n",
    "\n",
    "14. output - the predicted attribute - diagnosis of heart disease (angiographic disease status) (Value 0 = < diameter narrowing; Value 1 = > 50% diameter narrowing)\n",
    "\n",
    "\n",
    "<a href=\"#10\" style=\"color:tomato;background-color:black\">Back to content click here</a>\n"
   ]
  },
  {
   "cell_type": "markdown",
   "id": "thick-content",
   "metadata": {
    "papermill": {
     "duration": 0.039774,
     "end_time": "2023-02-21T15:55:18.231752",
     "exception": false,
     "start_time": "2023-02-21T15:55:18.191978",
     "status": "completed"
    },
    "tags": []
   },
   "source": [
    "<p id=\"1\"></p>\n",
    "<p style=\"font-family: Arials; font-size: 40px; font-style: normal; font-weight: bold; letter-spacing: 2px; color: mediumseagreen; line-height:1.3;text-align:center\"><a href=\"#1\" style=\"color:gray\">1. Import Necessary Tools</a></p>\n",
    "\n",
    "<p style=\"font-family: Arials; font-size: 14px; font-style: normal; font-weight: bold; letter-spacing: 2px; line-height:1.3;text-align:center\">Here i import all neccessary python library</p>\n",
    "\n",
    "<a href=\"#10\" style=\"color:tomato;background-color:black\">Back to content click here</a>\n",
    "\n",
    "\n",
    "<hr style=\"height: 0.5px; border: 0; background-color: #808080\">"
   ]
  },
  {
   "cell_type": "markdown",
   "id": "frequent-choir",
   "metadata": {
    "papermill": {
     "duration": 0.038579,
     "end_time": "2023-02-21T15:55:18.309585",
     "exception": false,
     "start_time": "2023-02-21T15:55:18.271006",
     "status": "completed"
    },
    "tags": []
   },
   "source": [
    "<p style=\"font-family: Arials; font-size: 18px; font-style: normal; font-weight: bold; letter-spacing: 2px; line-height:1.3\">The following libraries are used here:</p>\n",
    "\n",
    "<p style=\"font-family: Arials; font-size: 14px; font-style: normal; font-weight: bold; letter-spacing: 2px; line-height:1.3\"><bold>pandas:</bold> The Python Data Analysis Library is used for storing the data in dataframes and manipulation.</p>\n",
    "\n",
    "\n",
    "<p style=\"font-family: Arials; font-size: 14px; font-style: normal; font-weight: bold; letter-spacing: 2px; line-height:1.3\">numpy: Python scientific computing library.</p>\n",
    "\n",
    "<p style=\"font-family: Arials; font-size: 14px; font-style: normal; font-weight: bold; letter-spacing: 2px; line-height:1.3\"><a href=\"#\"></a><strong>matplotlib:</strong> Python plotting library.</p>\n",
    "\n",
    "<p style=\"font-family: Arials; font-size: 14px; font-style: normal; font-weight: bold; letter-spacing: 2px; line-height:1.3\"><a href=\"#\"></a>seaborn: Statistical data visualization based on matplotlib.</p>\n",
    "\n",
    "<p style=\"font-family: Arials; font-size: 14px; font-style: normal; font-weight: bold; letter-spacing: 2px; line-height:1.3;\">scikit-learn: Sklearn is a machine learning library for Python.</p>\n",
    "\n",
    "<p style=\"font-family: Arials; font-size: 14px; font-style: normal; font-weight: bold; letter-spacing: 2px; line-height:1.3\">scipy.stats: Provides a number of probability distributions and statistical functions.</p>\n",
    "\n"
   ]
  },
  {
   "cell_type": "code",
   "execution_count": 1,
   "id": "hollow-wisconsin",
   "metadata": {
    "_kg_hide-input": true,
    "execution": {
     "iopub.execute_input": "2023-02-21T15:55:18.400157Z",
     "iopub.status.busy": "2023-02-21T15:55:18.399420Z",
     "iopub.status.idle": "2023-02-21T15:55:24.323867Z",
     "shell.execute_reply": "2023-02-21T15:55:24.324444Z",
     "shell.execute_reply.started": "2021-07-06T16:46:51.817527Z"
    },
    "papermill": {
     "duration": 5.976058,
     "end_time": "2023-02-21T15:55:24.324747",
     "exception": false,
     "start_time": "2023-02-21T15:55:18.348689",
     "status": "completed"
    },
    "tags": []
   },
   "outputs": [],
   "source": [
    "import numpy as np \n",
    "import pandas as pd\n",
    "import seaborn as sns\n",
    "import matplotlib.pyplot as plt\n",
    "from sklearn.model_selection import train_test_split\n",
    "from sklearn.preprocessing import StandardScaler, OneHotEncoder\n",
    "from sklearn.impute import SimpleImputer\n",
    "from sklearn.pipeline import make_pipeline\n",
    "from sklearn.compose import make_column_transformer\n",
    "from scipy import stats\n",
    "from scipy.stats import norm, skew\n",
    "from sklearn.metrics import accuracy_score\n",
    "from numpy.random import seed\n",
    "from tensorflow.random import set_seed \n",
    "from tensorflow import keras\n",
    "from tensorflow.keras import layers\n",
    "import warnings\n",
    "warnings.filterwarnings(\"ignore\")\n",
    "from sklearn.linear_model import LogisticRegression\n",
    "from sklearn.svm import SVC, LinearSVC\n",
    "from sklearn.ensemble import RandomForestClassifier\n",
    "from sklearn.neighbors import KNeighborsClassifier\n",
    "from sklearn.naive_bayes import GaussianNB\n",
    "from sklearn.linear_model import Perceptron\n",
    "from sklearn.linear_model import SGDClassifier\n",
    "from sklearn.tree import DecisionTreeClassifier"
   ]
  },
  {
   "cell_type": "markdown",
   "id": "annual-hazard",
   "metadata": {
    "papermill": {
     "duration": 0.041591,
     "end_time": "2023-02-21T15:55:24.406501",
     "exception": false,
     "start_time": "2023-02-21T15:55:24.364910",
     "status": "completed"
    },
    "tags": []
   },
   "source": [
    "<p id=\"2\"></p>\n",
    "<p style=\"font-family: Arials; font-size: 40px; font-style: normal; font-weight: bold; letter-spacing: 2px; color: gray; line-height:1.3;text-align:center\">2. Data Visualization and Analysis</p>\n",
    "\n",
    "<p style=\"font-family: Arials; font-size: 14px; font-style: normal; font-weight: bold; letter-spacing: 2px; line-height:1.3;text-align:center\">Data visualization is the graphical representation of information and data.</p>\n",
    "\n",
    "\n",
    "<hr style=\"height: 0.5px; border: 0; background-color: #808080\">"
   ]
  },
  {
   "cell_type": "markdown",
   "id": "eight-digit",
   "metadata": {
    "papermill": {
     "duration": 0.038992,
     "end_time": "2023-02-21T15:55:24.485614",
     "exception": false,
     "start_time": "2023-02-21T15:55:24.446622",
     "status": "completed"
    },
    "tags": []
   },
   "source": [
    "<p id=\"2.1\"></p>\n",
    "<p style=\"text-indent: 1vw; font-family: Arials; font-size: 25px; font-style: normal; font-weight: bold; letter-spacing: 2px; color: mediumseagreen; line-height:1.3;text-align:center\">\n",
    "<a href=\"#2.1\" style=\"color:gray\">2.1 Load Dataset </a></p>\n",
    "\n"
   ]
  },
  {
   "cell_type": "code",
   "execution_count": 2,
   "id": "speaking-catalyst",
   "metadata": {
    "_kg_hide-input": true,
    "_kg_hide-output": false,
    "execution": {
     "iopub.execute_input": "2023-02-21T15:55:24.575754Z",
     "iopub.status.busy": "2023-02-21T15:55:24.575121Z",
     "iopub.status.idle": "2023-02-21T15:55:24.614615Z",
     "shell.execute_reply": "2023-02-21T15:55:24.614988Z",
     "shell.execute_reply.started": "2021-07-06T16:46:59.624115Z"
    },
    "papermill": {
     "duration": 0.086939,
     "end_time": "2023-02-21T15:55:24.615141",
     "exception": false,
     "start_time": "2023-02-21T15:55:24.528202",
     "status": "completed"
    },
    "tags": []
   },
   "outputs": [
    {
     "data": {
      "text/html": [
       "<div>\n",
       "<style scoped>\n",
       "    .dataframe tbody tr th:only-of-type {\n",
       "        vertical-align: middle;\n",
       "    }\n",
       "\n",
       "    .dataframe tbody tr th {\n",
       "        vertical-align: top;\n",
       "    }\n",
       "\n",
       "    .dataframe thead th {\n",
       "        text-align: right;\n",
       "    }\n",
       "</style>\n",
       "<table border=\"1\" class=\"dataframe\">\n",
       "  <thead>\n",
       "    <tr style=\"text-align: right;\">\n",
       "      <th></th>\n",
       "      <th>age</th>\n",
       "      <th>sex</th>\n",
       "      <th>cp</th>\n",
       "      <th>trtbps</th>\n",
       "      <th>chol</th>\n",
       "      <th>fbs</th>\n",
       "      <th>restecg</th>\n",
       "      <th>thalachh</th>\n",
       "      <th>exng</th>\n",
       "      <th>oldpeak</th>\n",
       "      <th>slp</th>\n",
       "      <th>caa</th>\n",
       "      <th>thall</th>\n",
       "      <th>output</th>\n",
       "    </tr>\n",
       "  </thead>\n",
       "  <tbody>\n",
       "    <tr>\n",
       "      <th>0</th>\n",
       "      <td>63</td>\n",
       "      <td>1</td>\n",
       "      <td>3</td>\n",
       "      <td>145</td>\n",
       "      <td>233</td>\n",
       "      <td>1</td>\n",
       "      <td>0</td>\n",
       "      <td>150</td>\n",
       "      <td>0</td>\n",
       "      <td>2.3</td>\n",
       "      <td>0</td>\n",
       "      <td>0</td>\n",
       "      <td>1</td>\n",
       "      <td>1</td>\n",
       "    </tr>\n",
       "    <tr>\n",
       "      <th>1</th>\n",
       "      <td>37</td>\n",
       "      <td>1</td>\n",
       "      <td>2</td>\n",
       "      <td>130</td>\n",
       "      <td>250</td>\n",
       "      <td>0</td>\n",
       "      <td>1</td>\n",
       "      <td>187</td>\n",
       "      <td>0</td>\n",
       "      <td>3.5</td>\n",
       "      <td>0</td>\n",
       "      <td>0</td>\n",
       "      <td>2</td>\n",
       "      <td>1</td>\n",
       "    </tr>\n",
       "    <tr>\n",
       "      <th>2</th>\n",
       "      <td>41</td>\n",
       "      <td>0</td>\n",
       "      <td>1</td>\n",
       "      <td>130</td>\n",
       "      <td>204</td>\n",
       "      <td>0</td>\n",
       "      <td>0</td>\n",
       "      <td>172</td>\n",
       "      <td>0</td>\n",
       "      <td>1.4</td>\n",
       "      <td>2</td>\n",
       "      <td>0</td>\n",
       "      <td>2</td>\n",
       "      <td>1</td>\n",
       "    </tr>\n",
       "    <tr>\n",
       "      <th>3</th>\n",
       "      <td>56</td>\n",
       "      <td>1</td>\n",
       "      <td>1</td>\n",
       "      <td>120</td>\n",
       "      <td>236</td>\n",
       "      <td>0</td>\n",
       "      <td>1</td>\n",
       "      <td>178</td>\n",
       "      <td>0</td>\n",
       "      <td>0.8</td>\n",
       "      <td>2</td>\n",
       "      <td>0</td>\n",
       "      <td>2</td>\n",
       "      <td>1</td>\n",
       "    </tr>\n",
       "    <tr>\n",
       "      <th>4</th>\n",
       "      <td>57</td>\n",
       "      <td>0</td>\n",
       "      <td>0</td>\n",
       "      <td>120</td>\n",
       "      <td>354</td>\n",
       "      <td>0</td>\n",
       "      <td>1</td>\n",
       "      <td>163</td>\n",
       "      <td>1</td>\n",
       "      <td>0.6</td>\n",
       "      <td>2</td>\n",
       "      <td>0</td>\n",
       "      <td>2</td>\n",
       "      <td>1</td>\n",
       "    </tr>\n",
       "  </tbody>\n",
       "</table>\n",
       "</div>"
      ],
      "text/plain": [
       "   age  sex  cp  trtbps  chol  fbs  restecg  thalachh  exng  oldpeak  slp  \\\n",
       "0   63    1   3     145   233    1        0       150     0      2.3    0   \n",
       "1   37    1   2     130   250    0        1       187     0      3.5    0   \n",
       "2   41    0   1     130   204    0        0       172     0      1.4    2   \n",
       "3   56    1   1     120   236    0        1       178     0      0.8    2   \n",
       "4   57    0   0     120   354    0        1       163     1      0.6    2   \n",
       "\n",
       "   caa  thall  output  \n",
       "0    0      1       1  \n",
       "1    0      2       1  \n",
       "2    0      2       1  \n",
       "3    0      2       1  \n",
       "4    0      2       1  "
      ]
     },
     "execution_count": 2,
     "metadata": {},
     "output_type": "execute_result"
    }
   ],
   "source": [
    "data = pd.read_csv('../input/heart-attack-analysis-prediction-dataset/heart.csv')\n",
    "y=data.output\n",
    "X=data.copy()\n",
    "X.drop(['output'],axis=1,inplace=True)\n",
    "data.head() "
   ]
  },
  {
   "cell_type": "markdown",
   "id": "apart-commerce",
   "metadata": {
    "papermill": {
     "duration": 0.040154,
     "end_time": "2023-02-21T15:55:24.696311",
     "exception": false,
     "start_time": "2023-02-21T15:55:24.656157",
     "status": "completed"
    },
    "tags": []
   },
   "source": [
    "<p id=\"2.2\"></p>\n",
    "<p style=\"text-indent: 1vw; font-family: Arials; font-size: 25px; font-style: normal; font-weight: bold; letter-spacing: 2px; color: gray; line-height:1.3;text-align:center\">2.2 Information of Data </a></p>\n"
   ]
  },
  {
   "cell_type": "code",
   "execution_count": 3,
   "id": "ranking-italian",
   "metadata": {
    "_kg_hide-input": true,
    "_kg_hide-output": false,
    "execution": {
     "iopub.execute_input": "2023-02-21T15:55:24.799509Z",
     "iopub.status.busy": "2023-02-21T15:55:24.798899Z",
     "iopub.status.idle": "2023-02-21T15:55:24.807446Z",
     "shell.execute_reply": "2023-02-21T15:55:24.806764Z",
     "shell.execute_reply.started": "2021-07-06T16:46:59.67885Z"
    },
    "papermill": {
     "duration": 0.067979,
     "end_time": "2023-02-21T15:55:24.807621",
     "exception": false,
     "start_time": "2023-02-21T15:55:24.739642",
     "status": "completed"
    },
    "tags": []
   },
   "outputs": [
    {
     "name": "stdout",
     "output_type": "stream",
     "text": [
      "<class 'pandas.core.frame.DataFrame'>\n",
      "RangeIndex: 303 entries, 0 to 302\n",
      "Data columns (total 14 columns):\n",
      " #   Column    Non-Null Count  Dtype  \n",
      "---  ------    --------------  -----  \n",
      " 0   age       303 non-null    int64  \n",
      " 1   sex       303 non-null    int64  \n",
      " 2   cp        303 non-null    int64  \n",
      " 3   trtbps    303 non-null    int64  \n",
      " 4   chol      303 non-null    int64  \n",
      " 5   fbs       303 non-null    int64  \n",
      " 6   restecg   303 non-null    int64  \n",
      " 7   thalachh  303 non-null    int64  \n",
      " 8   exng      303 non-null    int64  \n",
      " 9   oldpeak   303 non-null    float64\n",
      " 10  slp       303 non-null    int64  \n",
      " 11  caa       303 non-null    int64  \n",
      " 12  thall     303 non-null    int64  \n",
      " 13  output    303 non-null    int64  \n",
      "dtypes: float64(1), int64(13)\n",
      "memory usage: 33.3 KB\n",
      "****************************************************************************************************\n",
      "Categorical features of our dataset :  ['sex', 'cp', 'fbs', 'restecg', 'exng', 'slp', 'caa', 'thall']\n",
      "\n",
      "\n",
      "Numerical features of our dataset :  ['age', 'trtbps', 'chol', 'thalachh', 'oldpeak']\n"
     ]
    }
   ],
   "source": [
    "data.info()\n",
    "print(\"*\"*100)\n",
    "categorical_col=[cols for cols in X.columns if X[cols].nunique() < 10]\n",
    "print(\"Categorical features of our dataset : \",categorical_col)\n",
    "print(\"\\n\")\n",
    "numeric_col=[cols for cols in X.columns if X[cols].nunique() > 10]\n",
    "print(\"Numerical features of our dataset : \",numeric_col)\n",
    "\n",
    "#t = {}\n",
    "#for i in list(X.columns):\n",
    "  #  t[i] = X[i].value_counts().shape[0]\n",
    "#pd.DataFrame(t,index=[\"unique value count\"])"
   ]
  },
  {
   "cell_type": "markdown",
   "id": "imported-context",
   "metadata": {
    "papermill": {
     "duration": 0.039741,
     "end_time": "2023-02-21T15:55:24.888448",
     "exception": false,
     "start_time": "2023-02-21T15:55:24.848707",
     "status": "completed"
    },
    "tags": []
   },
   "source": [
    "# Observation :\n",
    "1. Total 303 entries \n",
    "\n",
    "2. Total 14 columns or features , among them 1 feature is our target(output)\n",
    "\n",
    "3. There are no null value in our dataset\n",
    "\n",
    "4. ['sex', 'cp', 'fbs', 'restecg', 'exng', 'slp', 'caa', 'thall'] is our categorical features\n",
    "\n",
    "5. ['age', 'trtbps', 'chol', 'thalachh', 'oldpeak'] is our numerical features\n",
    "\n"
   ]
  },
  {
   "cell_type": "markdown",
   "id": "printable-heather",
   "metadata": {
    "papermill": {
     "duration": 0.041504,
     "end_time": "2023-02-21T15:55:24.973177",
     "exception": false,
     "start_time": "2023-02-21T15:55:24.931673",
     "status": "completed"
    },
    "tags": []
   },
   "source": [
    "<p style=\"text-indent: 1vw; font-family: Arials; font-size:25px; font-style: normal; font-weight: bold; letter-spacing: 2px; color: gray; line-height:1.3;text-align:center\">2.3 Target Analysis</p>\n",
    "\n",
    "\n",
    "<p style=\"text-indent: 1vw; font-family: Arials; font-size:15px; font-style: normal; font-weight: bold; letter-spacing: 2px; line-height:1.3;text-align:center\">Our Target is output.This section i will analyze target</p>\n",
    "\n",
    "<p id=\"2.3.2\"></p>\n"
   ]
  },
  {
   "cell_type": "code",
   "execution_count": 4,
   "id": "residential-calibration",
   "metadata": {
    "_kg_hide-input": true,
    "_kg_hide-output": false,
    "execution": {
     "iopub.execute_input": "2023-02-21T15:55:25.064251Z",
     "iopub.status.busy": "2023-02-21T15:55:25.063507Z",
     "iopub.status.idle": "2023-02-21T15:55:25.471063Z",
     "shell.execute_reply": "2023-02-21T15:55:25.470633Z",
     "shell.execute_reply.started": "2021-07-06T16:46:59.714887Z"
    },
    "papermill": {
     "duration": 0.45447,
     "end_time": "2023-02-21T15:55:25.471187",
     "exception": false,
     "start_time": "2023-02-21T15:55:25.016717",
     "status": "completed"
    },
    "tags": []
   },
   "outputs": [
    {
     "data": {
      "image/png": "[encoded data removed]",
      "text/plain": [
       "<Figure size 432x288 with 1 Axes>"
      ]
     },
     "metadata": {},
     "output_type": "display_data"
    },
    {
     "data": {
      "image/png": "[encoded data removed]",
      "text/plain": [
       "<Figure size 576x432 with 1 Axes>"
      ]
     },
     "metadata": {
      "needs_background": "light"
     },
     "output_type": "display_data"
    }
   ],
   "source": [
    "def label_function(val):\n",
    "    return f'{val / 100 * len(data):.0f}\\n{val:.0f}%'\n",
    "labels = [\"0(low risk)\",\"1(high risk)\"]\n",
    "data.groupby('output').size().plot(kind='pie', autopct=label_function, textprops={'fontsize': 15}, colors=['#00FF00','#FF0000'],labels=labels)\n",
    "#plt.legend()\n",
    "plt.show()\n",
    "#print(\"*\"*80)\n",
    "\n",
    "\n",
    "counts = data[\"output\"].value_counts().sort_values()\n",
    "\n",
    "diag_cols = [\"0(low_risk)\", \"1(high_risk)\"]\n",
    "\n",
    "diag_counts = [counts[0], counts[1]]\n",
    "\n",
    "plt.figure(figsize = (8, 6))\n",
    "clrs = ['#FFA500' if (x < max(diag_counts)) else '#FF4500' for x in diag_counts ]\n",
    "sns.barplot(x = diag_cols, y = diag_counts, palette=clrs)\n",
    "plt.show()"
   ]
  },
  {
   "cell_type": "markdown",
   "id": "lyric-somewhere",
   "metadata": {
    "papermill": {
     "duration": 0.041184,
     "end_time": "2023-02-21T15:55:25.557129",
     "exception": false,
     "start_time": "2023-02-21T15:55:25.515945",
     "status": "completed"
    },
    "tags": []
   },
   "source": [
    "# Observation :\n",
    "\n",
    "**look at the pie chart and barplot :**\n",
    "\n",
    "1. 54% people are in risk zone that means have a chance of heart attack\n",
    "\n",
    "2. 46% people are in low risk zone that means have a less chance of heart attack\n",
    "\n",
    "3. total people 303 , among them 165 people have a more chance in heart attack another 138 people have less chance.\n",
    "\n"
   ]
  },
  {
   "cell_type": "markdown",
   "id": "violent-lotus",
   "metadata": {
    "execution": {
     "iopub.execute_input": "2021-06-05T19:08:27.347971Z",
     "iopub.status.busy": "2021-06-05T19:08:27.347685Z",
     "iopub.status.idle": "2021-06-05T19:08:27.35585Z",
     "shell.execute_reply": "2021-06-05T19:08:27.353703Z",
     "shell.execute_reply.started": "2021-06-05T19:08:27.347943Z"
    },
    "papermill": {
     "duration": 0.043864,
     "end_time": "2023-02-21T15:55:25.642072",
     "exception": false,
     "start_time": "2023-02-21T15:55:25.598208",
     "status": "completed"
    },
    "tags": []
   },
   "source": [
    "<p id=\"2.3.3\"></p>\n",
    "<p style=\"text-indent: 1vw; font-family: Arials; font-size:25px; font-style: normal; font-weight: bold; letter-spacing: 2px; color: gray; line-height:1.3;text-align:center\">2.4 Features Analysis</p>\n",
    "\n"
   ]
  },
  {
   "cell_type": "markdown",
   "id": "professional-detective",
   "metadata": {
    "papermill": {
     "duration": 0.044076,
     "end_time": "2023-02-21T15:55:25.727238",
     "exception": false,
     "start_time": "2023-02-21T15:55:25.683162",
     "status": "completed"
    },
    "tags": []
   },
   "source": [
    "# 1. Sex"
   ]
  },
  {
   "cell_type": "code",
   "execution_count": 5,
   "id": "geological-globe",
   "metadata": {
    "_kg_hide-input": true,
    "_kg_hide-output": false,
    "execution": {
     "iopub.execute_input": "2023-02-21T15:55:25.823209Z",
     "iopub.status.busy": "2023-02-21T15:55:25.822422Z",
     "iopub.status.idle": "2023-02-21T15:55:25.828871Z",
     "shell.execute_reply": "2023-02-21T15:55:25.828241Z",
     "shell.execute_reply.started": "2021-07-06T16:47:00.201038Z"
    },
    "papermill": {
     "duration": 0.060936,
     "end_time": "2023-02-21T15:55:25.829018",
     "exception": false,
     "start_time": "2023-02-21T15:55:25.768082",
     "status": "completed"
    },
    "tags": []
   },
   "outputs": [
    {
     "name": "stdout",
     "output_type": "stream",
     "text": [
      "   sex    output\n",
      "0    0  0.750000\n",
      "1    1  0.449275\n"
     ]
    }
   ],
   "source": [
    "s=data[[\"sex\", \"output\"]].groupby(['sex'], as_index=False).mean()\n",
    "print (s)\n",
    "\n"
   ]
  },
  {
   "cell_type": "markdown",
   "id": "threatened-sussex",
   "metadata": {
    "papermill": {
     "duration": 0.044478,
     "end_time": "2023-02-21T15:55:25.915818",
     "exception": false,
     "start_time": "2023-02-21T15:55:25.871340",
     "status": "completed"
    },
    "tags": []
   },
   "source": [
    "# 2. CP"
   ]
  },
  {
   "cell_type": "code",
   "execution_count": 6,
   "id": "significant-humanitarian",
   "metadata": {
    "_kg_hide-input": true,
    "_kg_hide-output": false,
    "execution": {
     "iopub.execute_input": "2023-02-21T15:55:26.008249Z",
     "iopub.status.busy": "2023-02-21T15:55:26.007473Z",
     "iopub.status.idle": "2023-02-21T15:55:26.016052Z",
     "shell.execute_reply": "2023-02-21T15:55:26.016787Z",
     "shell.execute_reply.started": "2021-07-06T16:47:00.218705Z"
    },
    "papermill": {
     "duration": 0.059927,
     "end_time": "2023-02-21T15:55:26.017020",
     "exception": false,
     "start_time": "2023-02-21T15:55:25.957093",
     "status": "completed"
    },
    "tags": []
   },
   "outputs": [
    {
     "name": "stdout",
     "output_type": "stream",
     "text": [
      "   cp    output\n",
      "0   0  0.272727\n",
      "1   1  0.820000\n",
      "2   2  0.793103\n",
      "3   3  0.695652\n"
     ]
    }
   ],
   "source": [
    "print (data[[\"cp\", \"output\"]].groupby(['cp'], as_index=False).mean())\n"
   ]
  },
  {
   "cell_type": "markdown",
   "id": "active-absence",
   "metadata": {
    "papermill": {
     "duration": 0.042582,
     "end_time": "2023-02-21T15:55:26.102266",
     "exception": false,
     "start_time": "2023-02-21T15:55:26.059684",
     "status": "completed"
    },
    "tags": []
   },
   "source": [
    "# 3. fbs"
   ]
  },
  {
   "cell_type": "code",
   "execution_count": 7,
   "id": "developed-affect",
   "metadata": {
    "_kg_hide-input": true,
    "execution": {
     "iopub.execute_input": "2023-02-21T15:55:26.197775Z",
     "iopub.status.busy": "2023-02-21T15:55:26.197119Z",
     "iopub.status.idle": "2023-02-21T15:55:26.201282Z",
     "shell.execute_reply": "2023-02-21T15:55:26.202796Z",
     "shell.execute_reply.started": "2021-07-06T16:47:00.240729Z"
    },
    "papermill": {
     "duration": 0.057354,
     "end_time": "2023-02-21T15:55:26.203092",
     "exception": false,
     "start_time": "2023-02-21T15:55:26.145738",
     "status": "completed"
    },
    "tags": []
   },
   "outputs": [
    {
     "name": "stdout",
     "output_type": "stream",
     "text": [
      "   fbs    output\n",
      "0    0  0.550388\n",
      "1    1  0.511111\n"
     ]
    }
   ],
   "source": [
    "\n",
    "print (data[[\"fbs\", \"output\"]].groupby(['fbs'], as_index=False).mean())"
   ]
  },
  {
   "cell_type": "markdown",
   "id": "silver-leave",
   "metadata": {
    "papermill": {
     "duration": 0.041757,
     "end_time": "2023-02-21T15:55:26.290762",
     "exception": false,
     "start_time": "2023-02-21T15:55:26.249005",
     "status": "completed"
    },
    "tags": []
   },
   "source": [
    "# 4. exng"
   ]
  },
  {
   "cell_type": "code",
   "execution_count": 8,
   "id": "standing-quality",
   "metadata": {
    "_kg_hide-input": true,
    "execution": {
     "iopub.execute_input": "2023-02-21T15:55:26.387699Z",
     "iopub.status.busy": "2023-02-21T15:55:26.387057Z",
     "iopub.status.idle": "2023-02-21T15:55:26.392511Z",
     "shell.execute_reply": "2023-02-21T15:55:26.393053Z",
     "shell.execute_reply.started": "2021-07-06T16:47:00.262162Z"
    },
    "papermill": {
     "duration": 0.057417,
     "end_time": "2023-02-21T15:55:26.393235",
     "exception": false,
     "start_time": "2023-02-21T15:55:26.335818",
     "status": "completed"
    },
    "tags": []
   },
   "outputs": [
    {
     "name": "stdout",
     "output_type": "stream",
     "text": [
      "   exng    output\n",
      "0     0  0.696078\n",
      "1     1  0.232323\n"
     ]
    }
   ],
   "source": [
    "\n",
    "print (data[[\"exng\", \"output\"]].groupby(['exng'], as_index=False).mean())"
   ]
  },
  {
   "cell_type": "markdown",
   "id": "modified-canvas",
   "metadata": {
    "papermill": {
     "duration": 0.041577,
     "end_time": "2023-02-21T15:55:26.482224",
     "exception": false,
     "start_time": "2023-02-21T15:55:26.440647",
     "status": "completed"
    },
    "tags": []
   },
   "source": [
    "# 5. slp"
   ]
  },
  {
   "cell_type": "code",
   "execution_count": 9,
   "id": "constitutional-medline",
   "metadata": {
    "_kg_hide-input": true,
    "execution": {
     "iopub.execute_input": "2023-02-21T15:55:26.579896Z",
     "iopub.status.busy": "2023-02-21T15:55:26.579292Z",
     "iopub.status.idle": "2023-02-21T15:55:26.585440Z",
     "shell.execute_reply": "2023-02-21T15:55:26.584661Z",
     "shell.execute_reply.started": "2021-07-06T16:47:00.284624Z"
    },
    "papermill": {
     "duration": 0.058019,
     "end_time": "2023-02-21T15:55:26.585619",
     "exception": false,
     "start_time": "2023-02-21T15:55:26.527600",
     "status": "completed"
    },
    "tags": []
   },
   "outputs": [
    {
     "name": "stdout",
     "output_type": "stream",
     "text": [
      "   slp    output\n",
      "0    0  0.428571\n",
      "1    1  0.350000\n",
      "2    2  0.753521\n"
     ]
    }
   ],
   "source": [
    "\n",
    "print (data[[\"slp\", \"output\"]].groupby(['slp'], as_index=False).mean())"
   ]
  },
  {
   "cell_type": "markdown",
   "id": "indirect-sample",
   "metadata": {
    "papermill": {
     "duration": 0.04216,
     "end_time": "2023-02-21T15:55:26.675453",
     "exception": false,
     "start_time": "2023-02-21T15:55:26.633293",
     "status": "completed"
    },
    "tags": []
   },
   "source": [
    "# 6. caa"
   ]
  },
  {
   "cell_type": "code",
   "execution_count": 10,
   "id": "southeast-semiconductor",
   "metadata": {
    "_kg_hide-input": true,
    "execution": {
     "iopub.execute_input": "2023-02-21T15:55:26.774044Z",
     "iopub.status.busy": "2023-02-21T15:55:26.773314Z",
     "iopub.status.idle": "2023-02-21T15:55:26.776577Z",
     "shell.execute_reply": "2023-02-21T15:55:26.777144Z",
     "shell.execute_reply.started": "2021-07-06T16:47:00.300804Z"
    },
    "papermill": {
     "duration": 0.056158,
     "end_time": "2023-02-21T15:55:26.777287",
     "exception": false,
     "start_time": "2023-02-21T15:55:26.721129",
     "status": "completed"
    },
    "tags": []
   },
   "outputs": [
    {
     "name": "stdout",
     "output_type": "stream",
     "text": [
      "   caa    output\n",
      "0    0  0.742857\n",
      "1    1  0.323077\n",
      "2    2  0.184211\n",
      "3    3  0.150000\n",
      "4    4  0.800000\n"
     ]
    }
   ],
   "source": [
    "\n",
    "print (data[[\"caa\", \"output\"]].groupby(['caa'], as_index=False).mean())"
   ]
  },
  {
   "cell_type": "markdown",
   "id": "flexible-snowboard",
   "metadata": {
    "papermill": {
     "duration": 0.042585,
     "end_time": "2023-02-21T15:55:26.865357",
     "exception": false,
     "start_time": "2023-02-21T15:55:26.822772",
     "status": "completed"
    },
    "tags": []
   },
   "source": [
    "# 7. thall"
   ]
  },
  {
   "cell_type": "code",
   "execution_count": 11,
   "id": "gothic-threshold",
   "metadata": {
    "_kg_hide-input": true,
    "execution": {
     "iopub.execute_input": "2023-02-21T15:55:26.964095Z",
     "iopub.status.busy": "2023-02-21T15:55:26.963410Z",
     "iopub.status.idle": "2023-02-21T15:55:26.966957Z",
     "shell.execute_reply": "2023-02-21T15:55:26.967688Z",
     "shell.execute_reply.started": "2021-07-06T16:47:00.316208Z"
    },
    "papermill": {
     "duration": 0.056792,
     "end_time": "2023-02-21T15:55:26.967884",
     "exception": false,
     "start_time": "2023-02-21T15:55:26.911092",
     "status": "completed"
    },
    "tags": []
   },
   "outputs": [
    {
     "name": "stdout",
     "output_type": "stream",
     "text": [
      "   thall    output\n",
      "0      0  0.500000\n",
      "1      1  0.333333\n",
      "2      2  0.783133\n",
      "3      3  0.239316\n"
     ]
    }
   ],
   "source": [
    "\n",
    "print (data[[\"thall\", \"output\"]].groupby(['thall'], as_index=False).mean())"
   ]
  },
  {
   "cell_type": "markdown",
   "id": "listed-uganda",
   "metadata": {
    "papermill": {
     "duration": 0.042531,
     "end_time": "2023-02-21T15:55:27.058225",
     "exception": false,
     "start_time": "2023-02-21T15:55:27.015694",
     "status": "completed"
    },
    "tags": []
   },
   "source": [
    "# 8. age"
   ]
  },
  {
   "cell_type": "code",
   "execution_count": 12,
   "id": "numeric-denmark",
   "metadata": {
    "_kg_hide-input": true,
    "execution": {
     "iopub.execute_input": "2023-02-21T15:55:27.169037Z",
     "iopub.status.busy": "2023-02-21T15:55:27.168277Z",
     "iopub.status.idle": "2023-02-21T15:55:27.171307Z",
     "shell.execute_reply": "2023-02-21T15:55:27.171895Z",
     "shell.execute_reply.started": "2021-07-06T16:47:00.336487Z"
    },
    "papermill": {
     "duration": 0.06865,
     "end_time": "2023-02-21T15:55:27.172095",
     "exception": false,
     "start_time": "2023-02-21T15:55:27.103445",
     "status": "completed"
    },
    "tags": []
   },
   "outputs": [
    {
     "name": "stdout",
     "output_type": "stream",
     "text": [
      "          cat_age    output\n",
      "0  (28.952, 38.6]  0.750000\n",
      "1    (38.6, 48.2]  0.704225\n",
      "2    (48.2, 57.8]  0.577320\n",
      "3    (57.8, 67.4]  0.377358\n",
      "4    (67.4, 77.0]  0.588235\n"
     ]
    }
   ],
   "source": [
    "data['cat_age'] = pd.cut(data['age'], 5)\n",
    "print (data[[\"cat_age\", \"output\"]].groupby(['cat_age'], as_index=False).mean())"
   ]
  },
  {
   "cell_type": "markdown",
   "id": "environmental-internet",
   "metadata": {
    "papermill": {
     "duration": 0.043952,
     "end_time": "2023-02-21T15:55:27.264428",
     "exception": false,
     "start_time": "2023-02-21T15:55:27.220476",
     "status": "completed"
    },
    "tags": []
   },
   "source": [
    "# 9. trtbps"
   ]
  },
  {
   "cell_type": "code",
   "execution_count": 13,
   "id": "endless-institution",
   "metadata": {
    "_kg_hide-input": true,
    "execution": {
     "iopub.execute_input": "2023-02-21T15:55:27.370024Z",
     "iopub.status.busy": "2023-02-21T15:55:27.369270Z",
     "iopub.status.idle": "2023-02-21T15:55:27.372488Z",
     "shell.execute_reply": "2023-02-21T15:55:27.372920Z",
     "shell.execute_reply.started": "2021-07-06T16:47:00.370153Z"
    },
    "papermill": {
     "duration": 0.061195,
     "end_time": "2023-02-21T15:55:27.373066",
     "exception": false,
     "start_time": "2023-02-21T15:55:27.311871",
     "status": "completed"
    },
    "tags": []
   },
   "outputs": [
    {
     "name": "stdout",
     "output_type": "stream",
     "text": [
      "        cat_trtbps    output\n",
      "0  (93.894, 115.2]  0.615385\n",
      "1   (115.2, 136.4]  0.560284\n",
      "2   (136.4, 157.6]  0.535714\n",
      "3   (157.6, 178.8]  0.380952\n",
      "4   (178.8, 200.0]  0.200000\n"
     ]
    }
   ],
   "source": [
    "data['cat_trtbps'] = pd.cut(data['trtbps'], 5)\n",
    "print (data[[\"cat_trtbps\", \"output\"]].groupby(['cat_trtbps'], as_index=False).mean())"
   ]
  },
  {
   "cell_type": "markdown",
   "id": "innocent-affair",
   "metadata": {
    "papermill": {
     "duration": 0.043478,
     "end_time": "2023-02-21T15:55:27.464271",
     "exception": false,
     "start_time": "2023-02-21T15:55:27.420793",
     "status": "completed"
    },
    "tags": []
   },
   "source": [
    "# 10. thalachh"
   ]
  },
  {
   "cell_type": "code",
   "execution_count": 14,
   "id": "descending-judges",
   "metadata": {
    "_kg_hide-input": true,
    "execution": {
     "iopub.execute_input": "2023-02-21T15:55:27.570279Z",
     "iopub.status.busy": "2023-02-21T15:55:27.569655Z",
     "iopub.status.idle": "2023-02-21T15:55:27.572971Z",
     "shell.execute_reply": "2023-02-21T15:55:27.573553Z",
     "shell.execute_reply.started": "2021-07-06T16:47:00.396175Z"
    },
    "papermill": {
     "duration": 0.061667,
     "end_time": "2023-02-21T15:55:27.573743",
     "exception": false,
     "start_time": "2023-02-21T15:55:27.512076",
     "status": "completed"
    },
    "tags": []
   },
   "outputs": [
    {
     "name": "stdout",
     "output_type": "stream",
     "text": [
      "     cat_thalachh    output\n",
      "0  (70.869, 97.2]  0.142857\n",
      "1   (97.2, 123.4]  0.297297\n",
      "2  (123.4, 149.6]  0.352273\n",
      "3  (149.6, 175.8]  0.678571\n",
      "4  (175.8, 202.0]  0.870968\n"
     ]
    }
   ],
   "source": [
    "data['cat_thalachh'] = pd.cut(data['thalachh'], 5)\n",
    "print (data[[\"cat_thalachh\", \"output\"]].groupby(['cat_thalachh'], as_index=False).mean())"
   ]
  },
  {
   "cell_type": "markdown",
   "id": "foreign-freedom",
   "metadata": {
    "papermill": {
     "duration": 0.043525,
     "end_time": "2023-02-21T15:55:27.666975",
     "exception": false,
     "start_time": "2023-02-21T15:55:27.623450",
     "status": "completed"
    },
    "tags": []
   },
   "source": [
    "# 11. chol"
   ]
  },
  {
   "cell_type": "code",
   "execution_count": 15,
   "id": "realistic-muscle",
   "metadata": {
    "_kg_hide-input": true,
    "execution": {
     "iopub.execute_input": "2023-02-21T15:55:27.772649Z",
     "iopub.status.busy": "2023-02-21T15:55:27.771890Z",
     "iopub.status.idle": "2023-02-21T15:55:27.775207Z",
     "shell.execute_reply": "2023-02-21T15:55:27.775645Z",
     "shell.execute_reply.started": "2021-07-06T16:47:00.416973Z"
    },
    "papermill": {
     "duration": 0.061599,
     "end_time": "2023-02-21T15:55:27.775788",
     "exception": false,
     "start_time": "2023-02-21T15:55:27.714189",
     "status": "completed"
    },
    "tags": []
   },
   "outputs": [
    {
     "name": "stdout",
     "output_type": "stream",
     "text": [
      "           cat_chol    output\n",
      "0  (125.562, 213.6]  0.611765\n",
      "1    (213.6, 301.2]  0.514286\n",
      "2    (301.2, 388.8]  0.526316\n",
      "3    (388.8, 476.4]  0.500000\n",
      "4    (476.4, 564.0]  1.000000\n"
     ]
    }
   ],
   "source": [
    "data['cat_chol'] = pd.cut(data['chol'], 5)\n",
    "print (data[[\"cat_chol\", \"output\"]].groupby(['cat_chol'], as_index=False).mean())"
   ]
  },
  {
   "cell_type": "markdown",
   "id": "unusual-titanium",
   "metadata": {
    "papermill": {
     "duration": 0.044175,
     "end_time": "2023-02-21T15:55:27.868417",
     "exception": false,
     "start_time": "2023-02-21T15:55:27.824242",
     "status": "completed"
    },
    "tags": []
   },
   "source": [
    " # 12 exng_fbs\n",
    " here i create feature exng_fbs based on exng and fbs for check how it's effact on output.\n",
    " \n",
    " 1. people who have exng =0  and fbs = 0 has more chance to heart attack(69%)\n",
    " \n",
    " 2. people who has exng =1 and fbs = 1 has very less chance to heart attack(12%)"
   ]
  },
  {
   "cell_type": "code",
   "execution_count": 16,
   "id": "temporal-indonesia",
   "metadata": {
    "_kg_hide-input": true,
    "execution": {
     "iopub.execute_input": "2023-02-21T15:55:27.973616Z",
     "iopub.status.busy": "2023-02-21T15:55:27.972881Z",
     "iopub.status.idle": "2023-02-21T15:55:27.975847Z",
     "shell.execute_reply": "2023-02-21T15:55:27.976395Z",
     "shell.execute_reply.started": "2021-07-06T16:47:00.43571Z"
    },
    "papermill": {
     "duration": 0.061098,
     "end_time": "2023-02-21T15:55:27.976590",
     "exception": false,
     "start_time": "2023-02-21T15:55:27.915492",
     "status": "completed"
    },
    "tags": []
   },
   "outputs": [
    {
     "data": {
      "text/html": [
       "<div>\n",
       "<style scoped>\n",
       "    .dataframe tbody tr th:only-of-type {\n",
       "        vertical-align: middle;\n",
       "    }\n",
       "\n",
       "    .dataframe tbody tr th {\n",
       "        vertical-align: top;\n",
       "    }\n",
       "\n",
       "    .dataframe thead th {\n",
       "        text-align: right;\n",
       "    }\n",
       "</style>\n",
       "<table border=\"1\" class=\"dataframe\">\n",
       "  <thead>\n",
       "    <tr style=\"text-align: right;\">\n",
       "      <th></th>\n",
       "      <th>exng_fbs</th>\n",
       "      <th>output</th>\n",
       "    </tr>\n",
       "  </thead>\n",
       "  <tbody>\n",
       "    <tr>\n",
       "      <th>0</th>\n",
       "      <td>0</td>\n",
       "      <td>0.691429</td>\n",
       "    </tr>\n",
       "    <tr>\n",
       "      <th>1</th>\n",
       "      <td>1</td>\n",
       "      <td>0.375000</td>\n",
       "    </tr>\n",
       "    <tr>\n",
       "      <th>2</th>\n",
       "      <td>2</td>\n",
       "      <td>0.125000</td>\n",
       "    </tr>\n",
       "  </tbody>\n",
       "</table>\n",
       "</div>"
      ],
      "text/plain": [
       "   exng_fbs    output\n",
       "0         0  0.691429\n",
       "1         1  0.375000\n",
       "2         2  0.125000"
      ]
     },
     "execution_count": 16,
     "metadata": {},
     "output_type": "execute_result"
    }
   ],
   "source": [
    "x=[data]\n",
    "for dataset in x:\n",
    "    dataset['exng_fbs'] = dataset['fbs'] + dataset['exng'] \n",
    "data[['exng_fbs','output']].groupby(['exng_fbs'], as_index=False).mean().sort_values(by='output',ascending=False)\n"
   ]
  },
  {
   "cell_type": "markdown",
   "id": "universal-privilege",
   "metadata": {
    "papermill": {
     "duration": 0.044919,
     "end_time": "2023-02-21T15:55:28.070337",
     "exception": false,
     "start_time": "2023-02-21T15:55:28.025418",
     "status": "completed"
    },
    "tags": []
   },
   "source": [
    "\n",
    "# Observation :\n",
    "\n",
    "1. sex - female has more chance than male to heart attack , about 75% female are at risk.\n",
    "\n",
    "2. cp - people who have cp = 1 and cp = 2 are more chance to heart attack.\n",
    "\n",
    "3. exng - exng = 0 has more chance to heart attack.\n",
    "\n",
    "4. slp - slp = 2 has more chance to heart attack.\n",
    "\n",
    "5. caa - caa = 0 and caa =4 has more chance to heart attack.\n",
    "\n",
    "6. thal - thal =2 has more chance to heart attack.\n",
    "\n",
    "7. age - age between 28-38 and 39-48 has more chance to heart attack.\n",
    "\n",
    "8. thalachh - range between 175-202 has more chance to heart attack (87%).\n",
    "\n",
    "9. chol - range between 476-564 has 100% chance to heart attack.\n",
    "\n"
   ]
  },
  {
   "cell_type": "markdown",
   "id": "norwegian-wrapping",
   "metadata": {
    "papermill": {
     "duration": 0.044617,
     "end_time": "2023-02-21T15:55:28.163257",
     "exception": false,
     "start_time": "2023-02-21T15:55:28.118640",
     "status": "completed"
    },
    "tags": []
   },
   "source": [
    "<p id=\"2.5\"></p>\n",
    "\n",
    "<p style=\"text-indent: 1vw; font-family: Arials; font-size:25px; font-style: normal; font-weight: bold; letter-spacing: 2px; color: gray; line-height:1.3;text-align:center\">2.5 Categorical and Numerical Features Analysis</p>\n"
   ]
  },
  {
   "cell_type": "markdown",
   "id": "interracial-charge",
   "metadata": {
    "papermill": {
     "duration": 0.044783,
     "end_time": "2023-02-21T15:55:28.256848",
     "exception": false,
     "start_time": "2023-02-21T15:55:28.212065",
     "status": "completed"
    },
    "tags": []
   },
   "source": [
    "# 1. caa and thalachh"
   ]
  },
  {
   "cell_type": "code",
   "execution_count": 17,
   "id": "lasting-venice",
   "metadata": {
    "_kg_hide-input": true,
    "execution": {
     "iopub.execute_input": "2023-02-21T15:55:28.358262Z",
     "iopub.status.busy": "2023-02-21T15:55:28.357436Z",
     "iopub.status.idle": "2023-02-21T15:55:28.939723Z",
     "shell.execute_reply": "2023-02-21T15:55:28.939252Z",
     "shell.execute_reply.started": "2021-07-06T16:47:00.462322Z"
    },
    "papermill": {
     "duration": 0.63676,
     "end_time": "2023-02-21T15:55:28.939855",
     "exception": false,
     "start_time": "2023-02-21T15:55:28.303095",
     "status": "completed"
    },
    "tags": []
   },
   "outputs": [
    {
     "data": {
      "text/plain": [
       "<seaborn.axisgrid.FacetGrid at 0x7fcf7971b810>"
      ]
     },
     "execution_count": 17,
     "metadata": {},
     "output_type": "execute_result"
    },
    {
     "data": {
      "image/png": "[encoded data removed]",
      "text/plain": [
       "<Figure size 402.375x360 with 1 Axes>"
      ]
     },
     "metadata": {
      "needs_background": "light"
     },
     "output_type": "display_data"
    }
   ],
   "source": [
    "sns.catplot(x=\"caa\", y=\"thalachh\", hue=\"output\", kind=\"swarm\", data=data)"
   ]
  },
  {
   "cell_type": "markdown",
   "id": "silver-genius",
   "metadata": {
    "papermill": {
     "duration": 0.051493,
     "end_time": "2023-02-21T15:55:29.037647",
     "exception": false,
     "start_time": "2023-02-21T15:55:28.986154",
     "status": "completed"
    },
    "tags": []
   },
   "source": [
    "# 2. fbs and thalachh"
   ]
  },
  {
   "cell_type": "code",
   "execution_count": 18,
   "id": "acoustic-poland",
   "metadata": {
    "_kg_hide-input": true,
    "execution": {
     "iopub.execute_input": "2023-02-21T15:55:29.139822Z",
     "iopub.status.busy": "2023-02-21T15:55:29.139030Z",
     "iopub.status.idle": "2023-02-21T15:55:29.658668Z",
     "shell.execute_reply": "2023-02-21T15:55:29.659088Z",
     "shell.execute_reply.started": "2021-07-06T16:47:01.108825Z"
    },
    "papermill": {
     "duration": 0.575943,
     "end_time": "2023-02-21T15:55:29.659241",
     "exception": false,
     "start_time": "2023-02-21T15:55:29.083298",
     "status": "completed"
    },
    "tags": []
   },
   "outputs": [
    {
     "data": {
      "text/plain": [
       "<seaborn.axisgrid.FacetGrid at 0x7fcf79706790>"
      ]
     },
     "execution_count": 18,
     "metadata": {},
     "output_type": "execute_result"
    },
    {
     "data": {
      "image/png": "[encoded data removed]",
      "text/plain": [
       "<Figure size 402.375x360 with 1 Axes>"
      ]
     },
     "metadata": {
      "needs_background": "light"
     },
     "output_type": "display_data"
    }
   ],
   "source": [
    "sns.catplot(x=\"fbs\", y=\"thalachh\", hue=\"output\", kind=\"swarm\", data=data)"
   ]
  },
  {
   "cell_type": "markdown",
   "id": "killing-ground",
   "metadata": {
    "papermill": {
     "duration": 0.050483,
     "end_time": "2023-02-21T15:55:29.761084",
     "exception": false,
     "start_time": "2023-02-21T15:55:29.710601",
     "status": "completed"
    },
    "tags": []
   },
   "source": [
    "# 3. oldpeak and fbs"
   ]
  },
  {
   "cell_type": "code",
   "execution_count": 19,
   "id": "sticky-examination",
   "metadata": {
    "_kg_hide-input": true,
    "execution": {
     "iopub.execute_input": "2023-02-21T15:55:29.870430Z",
     "iopub.status.busy": "2023-02-21T15:55:29.866206Z",
     "iopub.status.idle": "2023-02-21T15:55:30.494090Z",
     "shell.execute_reply": "2023-02-21T15:55:30.493597Z",
     "shell.execute_reply.started": "2021-07-06T16:47:01.687919Z"
    },
    "papermill": {
     "duration": 0.682325,
     "end_time": "2023-02-21T15:55:30.494230",
     "exception": false,
     "start_time": "2023-02-21T15:55:29.811905",
     "status": "completed"
    },
    "tags": []
   },
   "outputs": [
    {
     "data": {
      "text/plain": [
       "<seaborn.axisgrid.FacetGrid at 0x7fcf795a6d10>"
      ]
     },
     "execution_count": 19,
     "metadata": {},
     "output_type": "execute_result"
    },
    {
     "data": {
      "image/png": "[encoded data removed]",
      "text/plain": [
       "<Figure size 402.375x360 with 1 Axes>"
      ]
     },
     "metadata": {
      "needs_background": "light"
     },
     "output_type": "display_data"
    }
   ],
   "source": [
    "sns.catplot(x=\"fbs\", y=\"oldpeak\", hue=\"output\", kind=\"swarm\", data=data)"
   ]
  },
  {
   "cell_type": "markdown",
   "id": "existing-statistics",
   "metadata": {
    "papermill": {
     "duration": 0.048336,
     "end_time": "2023-02-21T15:55:30.596298",
     "exception": false,
     "start_time": "2023-02-21T15:55:30.547962",
     "status": "completed"
    },
    "tags": []
   },
   "source": [
    "\n",
    "# Observation :\n",
    "\n",
    "1. People who have high thalachh rate, are more chance to heart attack.\n",
    "\n",
    "2. People who have less oldpeak, are more chance to heart attack.\n",
    "\n",
    "\n",
    "    "
   ]
  },
  {
   "cell_type": "markdown",
   "id": "other-michigan",
   "metadata": {
    "papermill": {
     "duration": 0.048004,
     "end_time": "2023-02-21T15:55:30.695841",
     "exception": false,
     "start_time": "2023-02-21T15:55:30.647837",
     "status": "completed"
    },
    "tags": []
   },
   "source": [
    "<p style=\"text-indent: 1vw; font-family: Arials; font-size:27px; font-style: normal; font-weight: bold; letter-spacing: 2px; color: gray; line-height:1.3;text-align:center\">2.6 Detect Outliers</p>\n",
    "\n",
    "<p style=\"text-indent: 1vw; font-family: Arials; font-size:15px; font-style: normal; font-weight: bold; letter-spacing: 2px; line-height:1.3;text-align:center\">There are many way to detect outlier but here i use z-score and boxplot for detect outliers.</p>\n"
   ]
  },
  {
   "cell_type": "markdown",
   "id": "confidential-monday",
   "metadata": {
    "papermill": {
     "duration": 0.049496,
     "end_time": "2023-02-21T15:55:30.797784",
     "exception": false,
     "start_time": "2023-02-21T15:55:30.748288",
     "status": "completed"
    },
    "tags": []
   },
   "source": [
    "\n",
    "<p id=\"2.6.1\"></p>\n",
    "<p style=\"text-indent: 1vw; font-family: Arials; font-size:25px; font-style: normal; font-weight: bold; letter-spacing: 2px; color: mediumseagreen; line-height:1.3;text-align:center\"><a href=\"#2.3.1\"style=\"color:gray\">2.6.1 Find z-score </a></p>\n",
    "\n",
    "\n",
    "<p style=\"text-indent: 1vw; font-family: Arials; font-size:15px; font-style: normal; font-weight: bold; letter-spacing: 2px; line-height:1.3;text-align:center\">Defination of z-score from wiki : The Z-score is the signed number of standard deviations by which the value of an observation or data point is above the mean value of what is being observed or measured..</p>\n",
    "\n",
    "\n",
    "\n"
   ]
  },
  {
   "cell_type": "code",
   "execution_count": 20,
   "id": "impossible-symposium",
   "metadata": {
    "_kg_hide-input": true,
    "execution": {
     "iopub.execute_input": "2023-02-21T15:55:30.909058Z",
     "iopub.status.busy": "2023-02-21T15:55:30.908262Z",
     "iopub.status.idle": "2023-02-21T15:55:30.913414Z",
     "shell.execute_reply": "2023-02-21T15:55:30.913852Z",
     "shell.execute_reply.started": "2021-07-06T16:47:02.443593Z"
    },
    "papermill": {
     "duration": 0.062396,
     "end_time": "2023-02-21T15:55:30.914005",
     "exception": false,
     "start_time": "2023-02-21T15:55:30.851609",
     "status": "completed"
    },
    "tags": []
   },
   "outputs": [
    {
     "name": "stdout",
     "output_type": "stream",
     "text": [
      "(array([ 28,  85, 204, 220, 221, 223, 246, 248, 272]), array([2, 2, 4, 2, 4, 1, 2, 1, 3]))\n",
      "value of z[28][2] =  3.2995550358497527\n"
     ]
    }
   ],
   "source": [
    "z = np.abs(stats.zscore(X[numeric_col]))\n",
    "threshold = 3\n",
    "print(np.where(z >=threshold))\n",
    "print((\"value of z[28][2] = \"),(z[28][2]))"
   ]
  },
  {
   "cell_type": "markdown",
   "id": "greenhouse-north",
   "metadata": {
    "papermill": {
     "duration": 0.052538,
     "end_time": "2023-02-21T15:55:31.015859",
     "exception": false,
     "start_time": "2023-02-21T15:55:30.963321",
     "status": "completed"
    },
    "tags": []
   },
   "source": [
    "# Observation : \n",
    "Here 1st array indicate column and 2nd array indicate row. if we print z[28][2] then output will be 3.29 that's means  value greater then 3 and Z>3 consider outliers."
   ]
  },
  {
   "cell_type": "markdown",
   "id": "geological-solid",
   "metadata": {
    "papermill": {
     "duration": 0.052552,
     "end_time": "2023-02-21T15:55:31.119859",
     "exception": false,
     "start_time": "2023-02-21T15:55:31.067307",
     "status": "completed"
    },
    "tags": []
   },
   "source": [
    "<p id=\"2.6.2\"></p>\n",
    "<p style=\"text-indent: 1vw; font-family: Arials; font-size:25px; font-style: normal; font-weight: bold; letter-spacing: 2px; color: gray; line-height:1.3;text-align:center\">2.6.2 Boxplot</p>"
   ]
  },
  {
   "cell_type": "code",
   "execution_count": 21,
   "id": "southwest-discharge",
   "metadata": {
    "_kg_hide-input": true,
    "execution": {
     "iopub.execute_input": "2023-02-21T15:55:31.277778Z",
     "iopub.status.busy": "2023-02-21T15:55:31.276997Z",
     "iopub.status.idle": "2023-02-21T15:55:31.666368Z",
     "shell.execute_reply": "2023-02-21T15:55:31.666915Z",
     "shell.execute_reply.started": "2021-07-06T16:47:02.454399Z"
    },
    "papermill": {
     "duration": 0.497974,
     "end_time": "2023-02-21T15:55:31.667102",
     "exception": false,
     "start_time": "2023-02-21T15:55:31.169128",
     "status": "completed"
    },
    "tags": []
   },
   "outputs": [
    {
     "data": {
      "text/plain": [
       "<AxesSubplot:xlabel='oldpeak'>"
      ]
     },
     "execution_count": 21,
     "metadata": {},
     "output_type": "execute_result"
    },
    {
     "data": {
      "image/png": "[encoded data removed]",
      "text/plain": [
       "<Figure size 1080x360 with 3 Axes>"
      ]
     },
     "metadata": {
      "needs_background": "light"
     },
     "output_type": "display_data"
    },
    {
     "data": {
      "image/png": "[encoded data removed]",
      "text/plain": [
       "<Figure size 1080x360 with 2 Axes>"
      ]
     },
     "metadata": {
      "needs_background": "light"
     },
     "output_type": "display_data"
    }
   ],
   "source": [
    "fig, (axis1,axis2,axis3) = plt.subplots(1,3,figsize=(15,5))\n",
    "sns.boxplot(x=X[\"age\"],ax=axis1)\n",
    "sns.boxplot(x=X[\"trtbps\"],ax=axis2)\n",
    "sns.boxplot(x=X[\"chol\"],ax=axis3)\n",
    "\n",
    "fig, (axis1,axis2) = plt.subplots(1,2,figsize=(15,5))\n",
    "sns.boxplot(x=X[\"thalachh\"],ax=axis1)\n",
    "sns.boxplot(x=X[\"oldpeak\"],ax=axis2)"
   ]
  },
  {
   "cell_type": "markdown",
   "id": "immune-bones",
   "metadata": {
    "papermill": {
     "duration": 0.050687,
     "end_time": "2023-02-21T15:55:31.770912",
     "exception": false,
     "start_time": "2023-02-21T15:55:31.720225",
     "status": "completed"
    },
    "tags": []
   },
   "source": [
    "# Observation :\n",
    "1. Age feature don't have any outliers \n",
    "\n",
    "2. All others numeric features contains outliers\n",
    "\n",
    "\n",
    "<a href=\"#10\" style=\"color:tomato;background-color:black\">Back to content click here</a>"
   ]
  },
  {
   "cell_type": "markdown",
   "id": "downtown-cornwall",
   "metadata": {
    "papermill": {
     "duration": 0.050386,
     "end_time": "2023-02-21T15:55:31.875290",
     "exception": false,
     "start_time": "2023-02-21T15:55:31.824904",
     "status": "completed"
    },
    "tags": []
   },
   "source": [
    "<p id=\"3\"></p>\n",
    "<p style=\"font-family: Arials; font-size: 40px; font-style: normal; font-weight: bold; letter-spacing: 2px; color: gray; line-height:1.3;text-align:center\">3. Apply Machine Learning Model</p>\n",
    "\n",
    "<hr style=\"height: 0.5px; border: 0; background-color: #808080\">"
   ]
  },
  {
   "cell_type": "markdown",
   "id": "advisory-shadow",
   "metadata": {
    "papermill": {
     "duration": 0.049844,
     "end_time": "2023-02-21T15:55:31.978747",
     "exception": false,
     "start_time": "2023-02-21T15:55:31.928903",
     "status": "completed"
    },
    "tags": []
   },
   "source": [
    "<p id=\"3.1\"></p>\n",
    "\n",
    "<p style=\"text-indent: 1vw; font-family: Arials; font-size:25px; font-style: normal; font-weight: bold; letter-spacing: 2px; color: gray; line-height:1.3;text-align:center\">3.1 Data Preprocessing</p>\n"
   ]
  },
  {
   "cell_type": "code",
   "execution_count": 22,
   "id": "challenging-correlation",
   "metadata": {
    "_kg_hide-input": true,
    "execution": {
     "iopub.execute_input": "2023-02-21T15:55:32.128439Z",
     "iopub.status.busy": "2023-02-21T15:55:32.122273Z",
     "iopub.status.idle": "2023-02-21T15:55:32.160881Z",
     "shell.execute_reply": "2023-02-21T15:55:32.162335Z",
     "shell.execute_reply.started": "2021-07-06T16:47:03.055537Z"
    },
    "papermill": {
     "duration": 0.129853,
     "end_time": "2023-02-21T15:55:32.162882",
     "exception": false,
     "start_time": "2023-02-21T15:55:32.033029",
     "status": "completed"
    },
    "tags": []
   },
   "outputs": [],
   "source": [
    "seed(2)\n",
    "features_num = [\"age\",\"trtbps\",\"chol\",\"thalachh\",\"oldpeak\"]\n",
    "\n",
    "features_cat = ['sex','exng','caa','cp','fbs','restecg','slp','thall']\n",
    "random_state=2\n",
    "\n",
    "transformer_num = make_pipeline(\n",
    "    StandardScaler(),\n",
    ")\n",
    "transformer_cat = make_pipeline(\n",
    "    OneHotEncoder(handle_unknown='ignore'),\n",
    ")\n",
    "\n",
    "preprocessor = make_column_transformer(\n",
    "    (transformer_num, features_num),\n",
    "    (transformer_cat, features_cat),\n",
    ")\n",
    "\n",
    "X_train, X_valid, y_train, y_valid =train_test_split(X, y, train_size=0.75)\n",
    "\n",
    "X_train = preprocessor.fit_transform(X_train)\n",
    "X_valid = preprocessor.transform(X_valid)\n"
   ]
  },
  {
   "cell_type": "markdown",
   "id": "progressive-efficiency",
   "metadata": {
    "papermill": {
     "duration": 0.088252,
     "end_time": "2023-02-21T15:55:32.353976",
     "exception": false,
     "start_time": "2023-02-21T15:55:32.265724",
     "status": "completed"
    },
    "tags": []
   },
   "source": [
    "\n",
    "<p id=\"3.2\"></p>\n",
    "\n",
    "<p style=\"text-indent: 1vw; font-family: Arials; font-size:25px; font-style: normal; font-weight: bold; letter-spacing: 2px; color: gray; line-height:1.3;text-align:center\">3.2 Logistic Regression</p>"
   ]
  },
  {
   "cell_type": "code",
   "execution_count": 23,
   "id": "coated-obligation",
   "metadata": {
    "_kg_hide-input": true,
    "execution": {
     "iopub.execute_input": "2023-02-21T15:55:32.532646Z",
     "iopub.status.busy": "2023-02-21T15:55:32.531914Z",
     "iopub.status.idle": "2023-02-21T15:55:32.553843Z",
     "shell.execute_reply": "2023-02-21T15:55:32.554939Z",
     "shell.execute_reply.started": "2021-07-06T16:47:03.090146Z"
    },
    "papermill": {
     "duration": 0.114284,
     "end_time": "2023-02-21T15:55:32.555139",
     "exception": false,
     "start_time": "2023-02-21T15:55:32.440855",
     "status": "completed"
    },
    "tags": []
   },
   "outputs": [
    {
     "name": "stdout",
     "output_type": "stream",
     "text": [
      "test accuracy score of  Logistic Regression =  93.42105263157895\n"
     ]
    }
   ],
   "source": [
    "logreg = LogisticRegression()\n",
    "logreg.fit(X_train, y_train)\n",
    "pred = logreg.predict(X_valid)\n",
    "print(\"test accuracy score of  Logistic Regression = \", accuracy_score(y_valid, pred)*100)\n",
    "a_log = round(accuracy_score(y_valid, pred) * 100, 2)\n"
   ]
  },
  {
   "cell_type": "markdown",
   "id": "royal-balloon",
   "metadata": {
    "papermill": {
     "duration": 0.05742,
     "end_time": "2023-02-21T15:55:32.708036",
     "exception": false,
     "start_time": "2023-02-21T15:55:32.650616",
     "status": "completed"
    },
    "tags": []
   },
   "source": [
    " \n",
    "<p id=\"3.3\"></p>\n",
    "\n",
    "<p style=\"text-indent: 1vw; font-family: Arials; font-size:25px; font-style: normal; font-weight: bold; letter-spacing: 2px; color: gray; line-height:1.3;text-align:center\">3.3 Support Vector Machine"
   ]
  },
  {
   "cell_type": "code",
   "execution_count": 24,
   "id": "peaceful-freeware",
   "metadata": {
    "_kg_hide-input": true,
    "execution": {
     "iopub.execute_input": "2023-02-21T15:55:32.831429Z",
     "iopub.status.busy": "2023-02-21T15:55:32.830603Z",
     "iopub.status.idle": "2023-02-21T15:55:32.845841Z",
     "shell.execute_reply": "2023-02-21T15:55:32.846979Z",
     "shell.execute_reply.started": "2021-07-06T16:47:03.122951Z"
    },
    "papermill": {
     "duration": 0.087504,
     "end_time": "2023-02-21T15:55:32.847204",
     "exception": false,
     "start_time": "2023-02-21T15:55:32.759700",
     "status": "completed"
    },
    "tags": []
   },
   "outputs": [
    {
     "name": "stdout",
     "output_type": "stream",
     "text": [
      "test accuracy score of Support Vector Machine =  90.78947368421053\n"
     ]
    }
   ],
   "source": [
    "svc = SVC()\n",
    "svc.fit(X_train, y_train)\n",
    "pred = svc.predict(X_valid)\n",
    "print(\"test accuracy score of Support Vector Machine = \", accuracy_score(y_valid, pred)*100)\n",
    "a_svc = round(accuracy_score(y_valid, pred) * 100, 2)\n"
   ]
  },
  {
   "cell_type": "markdown",
   "id": "alone-moses",
   "metadata": {
    "papermill": {
     "duration": 0.054896,
     "end_time": "2023-02-21T15:55:32.953768",
     "exception": false,
     "start_time": "2023-02-21T15:55:32.898872",
     "status": "completed"
    },
    "tags": []
   },
   "source": [
    "\n",
    " \n",
    "<p id=\"3.4\"></p>\n",
    "\n",
    "<p style=\"text-indent: 1vw; font-family: Arials; font-size:25px; font-style: normal; font-weight: bold; letter-spacing: 2px; color: gray; line-height:1.3;text-align:center\">3.4 Stochastic Gradient Descent</p>"
   ]
  },
  {
   "cell_type": "code",
   "execution_count": 25,
   "id": "ceramic-afternoon",
   "metadata": {
    "_kg_hide-input": true,
    "execution": {
     "iopub.execute_input": "2023-02-21T15:55:33.135525Z",
     "iopub.status.busy": "2023-02-21T15:55:33.131764Z",
     "iopub.status.idle": "2023-02-21T15:55:33.140077Z",
     "shell.execute_reply": "2023-02-21T15:55:33.140648Z",
     "shell.execute_reply.started": "2021-07-06T16:47:03.141094Z"
    },
    "papermill": {
     "duration": 0.103072,
     "end_time": "2023-02-21T15:55:33.140854",
     "exception": false,
     "start_time": "2023-02-21T15:55:33.037782",
     "status": "completed"
    },
    "tags": []
   },
   "outputs": [
    {
     "name": "stdout",
     "output_type": "stream",
     "text": [
      "test accuracy score of Stochastic Gradient Descentt =  82.89473684210526\n"
     ]
    }
   ],
   "source": [
    "sgd = SGDClassifier()\n",
    "sgd.fit(X_train, y_train)\n",
    "pred = sgd.predict(X_valid)\n",
    "print(\"test accuracy score of Stochastic Gradient Descentt = \", accuracy_score(y_valid, pred)*100)\n",
    "a_sgd = round(accuracy_score(y_valid, pred) * 100, 2)\n"
   ]
  },
  {
   "cell_type": "markdown",
   "id": "republican-train",
   "metadata": {
    "papermill": {
     "duration": 0.07792,
     "end_time": "2023-02-21T15:55:33.296803",
     "exception": false,
     "start_time": "2023-02-21T15:55:33.218883",
     "status": "completed"
    },
    "tags": []
   },
   "source": [
    "\n",
    "\n",
    "<p id=\"3.5\"></p>\n",
    "\n",
    "<p style=\"text-indent: 1vw; font-family: Arials; font-size:25px; font-style: normal; font-weight: bold; letter-spacing: 2px; color: gray; line-height:1.3;text-align:center\">3.5 Decision Tree</p>"
   ]
  },
  {
   "cell_type": "code",
   "execution_count": 26,
   "id": "permanent-class",
   "metadata": {
    "_kg_hide-input": true,
    "execution": {
     "iopub.execute_input": "2023-02-21T15:55:33.478993Z",
     "iopub.status.busy": "2023-02-21T15:55:33.478172Z",
     "iopub.status.idle": "2023-02-21T15:55:33.485017Z",
     "shell.execute_reply": "2023-02-21T15:55:33.485664Z",
     "shell.execute_reply.started": "2021-07-06T16:47:03.15676Z"
    },
    "papermill": {
     "duration": 0.103344,
     "end_time": "2023-02-21T15:55:33.485872",
     "exception": false,
     "start_time": "2023-02-21T15:55:33.382528",
     "status": "completed"
    },
    "tags": []
   },
   "outputs": [
    {
     "name": "stdout",
     "output_type": "stream",
     "text": [
      "test accuracy score of Decision Tree =  81.57894736842105\n"
     ]
    }
   ],
   "source": [
    "decision_tree = DecisionTreeClassifier()\n",
    "decision_tree.fit(X_train, y_train)\n",
    "pred = decision_tree.predict(X_valid)\n",
    "print(\"test accuracy score of Decision Tree = \", accuracy_score(y_valid, pred)*100)\n",
    "a_decision_tree = round(accuracy_score(y_valid, pred) * 100, 2)\n"
   ]
  },
  {
   "cell_type": "markdown",
   "id": "turned-interval",
   "metadata": {
    "papermill": {
     "duration": 0.08506,
     "end_time": "2023-02-21T15:55:33.655416",
     "exception": false,
     "start_time": "2023-02-21T15:55:33.570356",
     "status": "completed"
    },
    "tags": []
   },
   "source": [
    "\n",
    "\n",
    "\n",
    "\n",
    "<p id=\"3.6\"></p>\n",
    "\n",
    "<p style=\"text-indent: 1vw; font-family: Arials; font-size:25px; font-style: normal; font-weight: bold; letter-spacing: 2px; color: gray; line-height:1.3;text-align:center\">3.6  Random Forest</p>"
   ]
  },
  {
   "cell_type": "code",
   "execution_count": 27,
   "id": "middle-speaker",
   "metadata": {
    "_kg_hide-input": true,
    "execution": {
     "iopub.execute_input": "2023-02-21T15:55:33.843401Z",
     "iopub.status.busy": "2023-02-21T15:55:33.842667Z",
     "iopub.status.idle": "2023-02-21T15:55:34.082861Z",
     "shell.execute_reply": "2023-02-21T15:55:34.083827Z",
     "shell.execute_reply.started": "2021-07-06T16:47:03.171451Z"
    },
    "papermill": {
     "duration": 0.335904,
     "end_time": "2023-02-21T15:55:34.084031",
     "exception": false,
     "start_time": "2023-02-21T15:55:33.748127",
     "status": "completed"
    },
    "tags": []
   },
   "outputs": [
    {
     "name": "stdout",
     "output_type": "stream",
     "text": [
      "test accuracy score of Random Forest =  86.8421052631579\n"
     ]
    }
   ],
   "source": [
    "random_forest = RandomForestClassifier(n_estimators=100, max_depth=3, random_state=2)\n",
    "random_forest.fit(X_train, y_train)\n",
    "pred = random_forest.predict(X_valid)\n",
    "random_forest.score(X_train, y_train)\n",
    "print(\"test accuracy score of Random Forest = \", accuracy_score(y_valid, pred)*100)\n",
    "a_random_forest = round(accuracy_score(y_valid, pred) * 100,2)\n"
   ]
  },
  {
   "cell_type": "markdown",
   "id": "behind-cliff",
   "metadata": {
    "papermill": {
     "duration": 0.081092,
     "end_time": "2023-02-21T15:55:34.241158",
     "exception": false,
     "start_time": "2023-02-21T15:55:34.160066",
     "status": "completed"
    },
    "tags": []
   },
   "source": [
    "\n",
    "<p id=\"3.7\"></p>\n",
    "\n",
    "<p style=\"text-indent: 1vw; font-family: Arials; font-size:25px; font-style: normal; font-weight: bold; letter-spacing: 2px; color: gray; line-height:1.3;text-align:center\">3.7  Linear SVC</p>"
   ]
  },
  {
   "cell_type": "code",
   "execution_count": 28,
   "id": "effective-estate",
   "metadata": {
    "_kg_hide-input": true,
    "execution": {
     "iopub.execute_input": "2023-02-21T15:55:34.415252Z",
     "iopub.status.busy": "2023-02-21T15:55:34.414453Z",
     "iopub.status.idle": "2023-02-21T15:55:34.426760Z",
     "shell.execute_reply": "2023-02-21T15:55:34.428480Z",
     "shell.execute_reply.started": "2021-07-06T16:47:03.400268Z"
    },
    "papermill": {
     "duration": 0.111188,
     "end_time": "2023-02-21T15:55:34.428814",
     "exception": false,
     "start_time": "2023-02-21T15:55:34.317626",
     "status": "completed"
    },
    "tags": []
   },
   "outputs": [
    {
     "name": "stdout",
     "output_type": "stream",
     "text": [
      "test accuracy score of  Linear SVC =  90.78947368421053\n"
     ]
    }
   ],
   "source": [
    "linear_svc = LinearSVC()\n",
    "linear_svc.fit(X_train, y_train)\n",
    "pred = linear_svc.predict(X_valid)\n",
    "print(\"test accuracy score of  Linear SVC = \", accuracy_score(y_valid, pred)*100)\n",
    "a_linear_svc= round(accuracy_score(y_valid, pred) * 100, 2)\n"
   ]
  },
  {
   "cell_type": "markdown",
   "id": "important-vertex",
   "metadata": {
    "papermill": {
     "duration": 0.054245,
     "end_time": "2023-02-21T15:55:34.535699",
     "exception": false,
     "start_time": "2023-02-21T15:55:34.481454",
     "status": "completed"
    },
    "tags": []
   },
   "source": [
    "\n",
    "\n",
    "\n",
    "<p id=\"3.8\"></p>\n",
    "\n",
    "<p style=\"text-indent: 1vw; font-family: Arials; font-size:25px; font-style: normal; font-weight: bold; letter-spacing: 2px; color: gray; line-height:1.3;text-align:center\">3.8 KNN</p>"
   ]
  },
  {
   "cell_type": "code",
   "execution_count": 29,
   "id": "filled-complexity",
   "metadata": {
    "_kg_hide-input": true,
    "execution": {
     "iopub.execute_input": "2023-02-21T15:55:34.649445Z",
     "iopub.status.busy": "2023-02-21T15:55:34.648314Z",
     "iopub.status.idle": "2023-02-21T15:55:34.666626Z",
     "shell.execute_reply": "2023-02-21T15:55:34.668584Z",
     "shell.execute_reply.started": "2021-07-06T16:47:03.418877Z"
    },
    "papermill": {
     "duration": 0.080886,
     "end_time": "2023-02-21T15:55:34.668876",
     "exception": false,
     "start_time": "2023-02-21T15:55:34.587990",
     "status": "completed"
    },
    "tags": []
   },
   "outputs": [
    {
     "name": "stdout",
     "output_type": "stream",
     "text": [
      "test accuracy score of KNN =  85.52631578947368\n"
     ]
    }
   ],
   "source": [
    "knn = KNeighborsClassifier()\n",
    "knn.fit(X_train, y_train)\n",
    "pred = knn.predict(X_valid)\n",
    "print(\"test accuracy score of KNN = \", accuracy_score(y_valid, pred)*100)\n",
    "a_knn = round(accuracy_score(y_valid, pred) * 100, 2)\n"
   ]
  },
  {
   "cell_type": "markdown",
   "id": "exposed-oriental",
   "metadata": {
    "papermill": {
     "duration": 0.057453,
     "end_time": "2023-02-21T15:55:34.852920",
     "exception": false,
     "start_time": "2023-02-21T15:55:34.795467",
     "status": "completed"
    },
    "tags": []
   },
   "source": [
    "\n",
    "\n",
    "<p id=\"3.9\"></p>\n",
    "\n",
    "<p style=\"text-indent: 1vw; font-family: Arials; font-size:25px; font-style: normal; font-weight: bold; letter-spacing: 2px; color: gray; line-height:1.3;text-align:center\">3.9 Gaussian Naive Bayes</p>"
   ]
  },
  {
   "cell_type": "code",
   "execution_count": 30,
   "id": "stable-wagner",
   "metadata": {
    "_kg_hide-input": true,
    "execution": {
     "iopub.execute_input": "2023-02-21T15:55:34.967077Z",
     "iopub.status.busy": "2023-02-21T15:55:34.966373Z",
     "iopub.status.idle": "2023-02-21T15:55:34.972583Z",
     "shell.execute_reply": "2023-02-21T15:55:34.972148Z",
     "shell.execute_reply.started": "2021-07-06T16:47:03.445839Z"
    },
    "papermill": {
     "duration": 0.06426,
     "end_time": "2023-02-21T15:55:34.972707",
     "exception": false,
     "start_time": "2023-02-21T15:55:34.908447",
     "status": "completed"
    },
    "tags": []
   },
   "outputs": [
    {
     "name": "stdout",
     "output_type": "stream",
     "text": [
      "test accuracy score of Gaussian Naive Bayes =  77.63157894736842\n"
     ]
    }
   ],
   "source": [
    "gaussian = GaussianNB()\n",
    "gaussian.fit(X_train, y_train)\n",
    "pred = gaussian.predict(X_valid)\n",
    "print(\"test accuracy score of Gaussian Naive Bayes = \", accuracy_score(y_valid, pred)*100)\n",
    "a_gaussian = round(accuracy_score(y_valid, pred)* 100, 2)"
   ]
  },
  {
   "cell_type": "markdown",
   "id": "satisfactory-raising",
   "metadata": {
    "papermill": {
     "duration": 0.051608,
     "end_time": "2023-02-21T15:55:35.081060",
     "exception": false,
     "start_time": "2023-02-21T15:55:35.029452",
     "status": "completed"
    },
    "tags": []
   },
   "source": [
    "<a href=\"#10\" style=\"color:tomato;background-color:black\">Back to content click here</a>"
   ]
  },
  {
   "cell_type": "markdown",
   "id": "assisted-assist",
   "metadata": {
    "papermill": {
     "duration": 0.051798,
     "end_time": "2023-02-21T15:55:35.189317",
     "exception": false,
     "start_time": "2023-02-21T15:55:35.137519",
     "status": "completed"
    },
    "tags": []
   },
   "source": [
    "<p id=\"4\"></p>\n",
    "<p style=\"font-family: Arials; font-size: 40px; font-style: normal; font-weight: bold; letter-spacing: 2px; color: gray; line-height:1.3;text-align:center\">4. Artificial Neural Network(ANN)</p>\n",
    "\n",
    "\n",
    "<hr style=\"height: 0.5px; border: 0; background-color: #808080\">"
   ]
  },
  {
   "cell_type": "code",
   "execution_count": 31,
   "id": "covered-ranking",
   "metadata": {
    "_kg_hide-input": true,
    "execution": {
     "iopub.execute_input": "2023-02-21T15:55:35.311857Z",
     "iopub.status.busy": "2023-02-21T15:55:35.310981Z",
     "iopub.status.idle": "2023-02-21T15:55:40.628261Z",
     "shell.execute_reply": "2023-02-21T15:55:40.628703Z",
     "shell.execute_reply.started": "2021-07-06T16:47:03.462463Z"
    },
    "papermill": {
     "duration": 5.38343,
     "end_time": "2023-02-21T15:55:40.628861",
     "exception": false,
     "start_time": "2023-02-21T15:55:35.245431",
     "status": "completed"
    },
    "tags": []
   },
   "outputs": [
    {
     "name": "stdout",
     "output_type": "stream",
     "text": [
      "Epoch 1/100\n",
      "2/2 [==============================] - 2s 532ms/step - loss: 5.0524 - binary_accuracy: 0.5136 - val_loss: 3.5451 - val_binary_accuracy: 0.5410\n",
      "Epoch 2/100\n",
      "2/2 [==============================] - 0s 45ms/step - loss: 3.1434 - binary_accuracy: 0.5782 - val_loss: 1.2540 - val_binary_accuracy: 0.8197\n",
      "Epoch 3/100\n",
      "2/2 [==============================] - 0s 47ms/step - loss: 1.3251 - binary_accuracy: 0.7302 - val_loss: 1.2127 - val_binary_accuracy: 0.8361\n",
      "Epoch 4/100\n",
      "2/2 [==============================] - 0s 41ms/step - loss: 0.9262 - binary_accuracy: 0.8030 - val_loss: 1.1766 - val_binary_accuracy: 0.8525\n",
      "Epoch 5/100\n",
      "2/2 [==============================] - 0s 42ms/step - loss: 1.0259 - binary_accuracy: 0.8246 - val_loss: 1.1559 - val_binary_accuracy: 0.8525\n",
      "Epoch 6/100\n",
      "2/2 [==============================] - 0s 42ms/step - loss: 0.6802 - binary_accuracy: 0.8483 - val_loss: 0.9607 - val_binary_accuracy: 0.8525\n",
      "Epoch 7/100\n",
      "2/2 [==============================] - 0s 43ms/step - loss: 0.7805 - binary_accuracy: 0.8432 - val_loss: 1.1510 - val_binary_accuracy: 0.8689\n",
      "Epoch 8/100\n",
      "2/2 [==============================] - 0s 40ms/step - loss: 0.7222 - binary_accuracy: 0.8648 - val_loss: 1.1562 - val_binary_accuracy: 0.8689\n",
      "Epoch 9/100\n",
      "2/2 [==============================] - 0s 43ms/step - loss: 0.7941 - binary_accuracy: 0.8434 - val_loss: 1.1531 - val_binary_accuracy: 0.8525\n",
      "Epoch 10/100\n",
      "2/2 [==============================] - 0s 43ms/step - loss: 0.5964 - binary_accuracy: 0.8863 - val_loss: 1.1774 - val_binary_accuracy: 0.8525\n",
      "Epoch 11/100\n",
      "2/2 [==============================] - 0s 42ms/step - loss: 0.6077 - binary_accuracy: 0.8702 - val_loss: 1.4629 - val_binary_accuracy: 0.8197\n"
     ]
    },
    {
     "data": {
      "text/plain": [
       "<AxesSubplot:title={'center':'Accuracy'}>"
      ]
     },
     "execution_count": 31,
     "metadata": {},
     "output_type": "execute_result"
    },
    {
     "data": {
      "image/png": "[encoded data removed]",
      "text/plain": [
       "<Figure size 432x288 with 1 Axes>"
      ]
     },
     "metadata": {
      "needs_background": "light"
     },
     "output_type": "display_data"
    },
    {
     "data": {
      "image/png": "[encoded data removed]",
      "text/plain": [
       "<Figure size 432x288 with 1 Axes>"
      ]
     },
     "metadata": {
      "needs_background": "light"
     },
     "output_type": "display_data"
    }
   ],
   "source": [
    "\n",
    "seed(0)\n",
    "set_seed(0)\n",
    "\n",
    "features_num = [\"age\",\"trtbps\",\"chol\",\"thalachh\",\"oldpeak\"]\n",
    "\n",
    "features_cat = ['sex','exng','caa','cp','fbs','restecg','slp','thall']\n",
    "\n",
    "transformer_num = make_pipeline(\n",
    "    \n",
    "    StandardScaler(),\n",
    ")\n",
    "transformer_cat = make_pipeline(\n",
    "    \n",
    "    OneHotEncoder(handle_unknown='ignore'),\n",
    ")\n",
    "\n",
    "preprocessor = make_column_transformer(\n",
    "    (transformer_num, features_num),\n",
    "    (transformer_cat, features_cat),\n",
    ")\n",
    "\n",
    "# stratify - make sure classes are evenlly represented across splits\n",
    "X_train, X_valid, y_train, y_valid =train_test_split(X, y, stratify=y, train_size=0.80)\n",
    "\n",
    "X_train = preprocessor.fit_transform(X_train)\n",
    "X_valid = preprocessor.transform(X_valid)\n",
    "input_shape = [X_train.shape[1]]\n",
    "\n",
    "\n",
    "model = keras.Sequential([\n",
    "    layers.Dense(1056,activation='relu',input_shape=input_shape),\n",
    "    layers.Dropout(rate=0.3),\n",
    "    layers.Dense(512,activation='relu'),\n",
    "    layers.Dropout(rate=0.3),\n",
    "    layers.Dense(1) ,\n",
    "])\n",
    "\n",
    "model.compile(\n",
    "    optimizer='adam',\n",
    "    loss='binary_crossentropy',\n",
    "    metrics=['binary_accuracy'],\n",
    ")\n",
    "\n",
    "early_stopping = keras.callbacks.EarlyStopping(\n",
    "    patience=5,\n",
    "    min_delta=0.001,\n",
    "    restore_best_weights=True,\n",
    ")\n",
    "\n",
    "history = model.fit(\n",
    "    X_train, y_train,\n",
    "    validation_data=(X_valid, y_valid),\n",
    "    batch_size=128,\n",
    "    epochs=100,\n",
    "    callbacks=[early_stopping],\n",
    ")\n",
    "\n",
    "#acc_ann=model.evaluate(X_valid,y_valid)\n",
    "#ann = round(acc_ann[1]*100,2)\n",
    "\n",
    "history_df = pd.DataFrame(history.history)\n",
    "history_df.loc[:, ['loss', 'val_loss']].plot(title=\"Cross-entropy\")\n",
    "history_df.loc[:, ['binary_accuracy', 'val_binary_accuracy']].plot(title=\"Accuracy\")\n"
   ]
  },
  {
   "cell_type": "code",
   "execution_count": 32,
   "id": "located-crack",
   "metadata": {
    "_kg_hide-input": true,
    "execution": {
     "iopub.execute_input": "2023-02-21T15:55:40.759999Z",
     "iopub.status.busy": "2023-02-21T15:55:40.759191Z",
     "iopub.status.idle": "2023-02-21T15:55:40.819652Z",
     "shell.execute_reply": "2023-02-21T15:55:40.820877Z",
     "shell.execute_reply.started": "2021-07-06T16:47:06.639414Z"
    },
    "papermill": {
     "duration": 0.132889,
     "end_time": "2023-02-21T15:55:40.821136",
     "exception": false,
     "start_time": "2023-02-21T15:55:40.688247",
     "status": "completed"
    },
    "tags": []
   },
   "outputs": [
    {
     "name": "stdout",
     "output_type": "stream",
     "text": [
      "2/2 [==============================] - 0s 6ms/step - loss: 0.9607 - binary_accuracy: 0.8525\n"
     ]
    }
   ],
   "source": [
    "acc_ann=model.evaluate(X_valid,y_valid)\n",
    "ann = round(acc_ann[1]*100,2)\n"
   ]
  },
  {
   "cell_type": "markdown",
   "id": "pediatric-texture",
   "metadata": {
    "papermill": {
     "duration": 0.07141,
     "end_time": "2023-02-21T15:55:40.990905",
     "exception": false,
     "start_time": "2023-02-21T15:55:40.919495",
     "status": "completed"
    },
    "tags": []
   },
   "source": [
    "<a href=\"#10\" style=\"color:tomato;background-color:black\">Back to content click here</a>"
   ]
  },
  {
   "cell_type": "markdown",
   "id": "rotary-syndication",
   "metadata": {
    "papermill": {
     "duration": 0.060284,
     "end_time": "2023-02-21T15:55:41.112588",
     "exception": false,
     "start_time": "2023-02-21T15:55:41.052304",
     "status": "completed"
    },
    "tags": []
   },
   "source": [
    "<p id=\"5\"></p>\n",
    "<p style=\"font-family: Arials; font-size: 40px; font-style: normal; font-weight: bold; letter-spacing: 2px; color: gray; line-height:1.3;text-align:center\">5.Compare All Model Score</p>\n",
    "\n",
    "\n",
    "<hr style=\"height: 0.5px; border: 0; background-color: #808080\">"
   ]
  },
  {
   "cell_type": "code",
   "execution_count": 33,
   "id": "complex-logic",
   "metadata": {
    "_kg_hide-input": true,
    "execution": {
     "iopub.execute_input": "2023-02-21T15:55:41.253617Z",
     "iopub.status.busy": "2023-02-21T15:55:41.252759Z",
     "iopub.status.idle": "2023-02-21T15:55:41.402332Z",
     "shell.execute_reply": "2023-02-21T15:55:41.401908Z",
     "shell.execute_reply.started": "2021-07-06T16:47:06.704327Z"
    },
    "papermill": {
     "duration": 0.230001,
     "end_time": "2023-02-21T15:55:41.402458",
     "exception": false,
     "start_time": "2023-02-21T15:55:41.172457",
     "status": "completed"
    },
    "tags": []
   },
   "outputs": [
    {
     "data": {
      "text/html": [
       "<div>\n",
       "<style scoped>\n",
       "    .dataframe tbody tr th:only-of-type {\n",
       "        vertical-align: middle;\n",
       "    }\n",
       "\n",
       "    .dataframe tbody tr th {\n",
       "        vertical-align: top;\n",
       "    }\n",
       "\n",
       "    .dataframe thead th {\n",
       "        text-align: right;\n",
       "    }\n",
       "</style>\n",
       "<table border=\"1\" class=\"dataframe\">\n",
       "  <thead>\n",
       "    <tr style=\"text-align: right;\">\n",
       "      <th></th>\n",
       "      <th>model</th>\n",
       "      <th>score</th>\n",
       "    </tr>\n",
       "  </thead>\n",
       "  <tbody>\n",
       "    <tr>\n",
       "      <th>1</th>\n",
       "      <td>Logistic Regression</td>\n",
       "      <td>93.42</td>\n",
       "    </tr>\n",
       "    <tr>\n",
       "      <th>4</th>\n",
       "      <td>Linear SVC</td>\n",
       "      <td>90.79</td>\n",
       "    </tr>\n",
       "    <tr>\n",
       "      <th>5</th>\n",
       "      <td>Support Vector Machines</td>\n",
       "      <td>90.79</td>\n",
       "    </tr>\n",
       "    <tr>\n",
       "      <th>3</th>\n",
       "      <td>Random Forest</td>\n",
       "      <td>86.84</td>\n",
       "    </tr>\n",
       "    <tr>\n",
       "      <th>0</th>\n",
       "      <td>KNN</td>\n",
       "      <td>85.53</td>\n",
       "    </tr>\n",
       "    <tr>\n",
       "      <th>8</th>\n",
       "      <td>ANN</td>\n",
       "      <td>85.25</td>\n",
       "    </tr>\n",
       "    <tr>\n",
       "      <th>6</th>\n",
       "      <td>Stochastic Gradient Decent</td>\n",
       "      <td>82.89</td>\n",
       "    </tr>\n",
       "    <tr>\n",
       "      <th>7</th>\n",
       "      <td>Decision Tree</td>\n",
       "      <td>81.58</td>\n",
       "    </tr>\n",
       "    <tr>\n",
       "      <th>2</th>\n",
       "      <td>Gaussian Naive Bayes</td>\n",
       "      <td>77.63</td>\n",
       "    </tr>\n",
       "  </tbody>\n",
       "</table>\n",
       "</div>"
      ],
      "text/plain": [
       "                        model  score\n",
       "1         Logistic Regression  93.42\n",
       "4                  Linear SVC  90.79\n",
       "5     Support Vector Machines  90.79\n",
       "3               Random Forest  86.84\n",
       "0                         KNN  85.53\n",
       "8                         ANN  85.25\n",
       "6  Stochastic Gradient Decent  82.89\n",
       "7               Decision Tree  81.58\n",
       "2        Gaussian Naive Bayes  77.63"
      ]
     },
     "execution_count": 33,
     "metadata": {},
     "output_type": "execute_result"
    },
    {
     "data": {
      "image/png": "[encoded data removed]",
      "text/plain": [
       "<Figure size 432x288 with 1 Axes>"
      ]
     },
     "metadata": {
      "needs_background": "light"
     },
     "output_type": "display_data"
    }
   ],
   "source": [
    "models = pd.DataFrame({\n",
    "    'model': ['KNN','Logistic Regression', \n",
    "               'Gaussian Naive Bayes','Random Forest','Linear SVC', \n",
    "              'Support Vector Machines','Stochastic Gradient Decent','Decision Tree','ANN'],\n",
    "    'score': [a_knn, a_log,  a_gaussian,\n",
    "              a_random_forest, a_linear_svc, \n",
    "              a_svc, a_sgd, a_decision_tree, ann]})\n",
    "\n",
    "sns.barplot(x='score', y='model', data=models)\n",
    "\n",
    "models.sort_values(by='score', ascending=False)\n"
   ]
  },
  {
   "cell_type": "markdown",
   "id": "supported-gentleman",
   "metadata": {
    "papermill": {
     "duration": 0.063908,
     "end_time": "2023-02-21T15:55:41.528608",
     "exception": false,
     "start_time": "2023-02-21T15:55:41.464700",
     "status": "completed"
    },
    "tags": []
   },
   "source": [
    "<a href=\"#10\" style=\"color:tomato;background-color:black\">Back to content click here</a>"
   ]
  },
  {
   "cell_type": "markdown",
   "id": "mighty-semiconductor",
   "metadata": {
    "papermill": {
     "duration": 0.061836,
     "end_time": "2023-02-21T15:55:41.652743",
     "exception": false,
     "start_time": "2023-02-21T15:55:41.590907",
     "status": "completed"
    },
    "tags": []
   },
   "source": [
    "\n",
    "\n",
    "\n",
    "\n",
    "\n",
    "<p style=\"text-indent: 1vw; font-family: Arials; font-size:25px; font-style: normal; font-weight: bold; letter-spacing: 2px; color: mediumseagreen; line-height:1.3;text-align:center;background-color:black;color:tomato;\">If you like a single line of my notebook please an upvote for encourage me.</p>\n",
    "\n",
    "\n",
    "\n",
    "\n",
    "\n",
    "\n",
    "\n"
   ]
  }
 ],
 "metadata": {
  "kernelspec": {
   "display_name": "Python 3",
   "language": "python",
   "name": "python3"
  },
  "language_info": {
   "codemirror_mode": {
    "name": "ipython",
    "version": 3
   },
   "file_extension": ".py",
   "mimetype": "text/x-python",
   "name": "python",
   "nbconvert_exporter": "python",
   "pygments_lexer": "ipython3",
   "version": "3.7.10"
  },
  "papermill": {
   "default_parameters": {},
   "duration": 32.752717,
   "end_time": "2023-02-21T15:55:44.307750",
   "environment_variables": {},
   "exception": null,
   "input_path": "__notebook__.ipynb",
   "output_path": "__notebook__.ipynb",
   "parameters": {},
   "start_time": "2023-02-21T15:55:11.555033",
   "version": "2.3.3"
  }
 },
 "nbformat": 4,
 "nbformat_minor": 5
}
